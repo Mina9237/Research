{
 "cells": [
  {
   "cell_type": "code",
   "execution_count": 2,
   "metadata": {},
   "outputs": [
    {
     "data": {
      "text/html": [
       "<div>\n",
       "<style scoped>\n",
       "    .dataframe tbody tr th:only-of-type {\n",
       "        vertical-align: middle;\n",
       "    }\n",
       "\n",
       "    .dataframe tbody tr th {\n",
       "        vertical-align: top;\n",
       "    }\n",
       "\n",
       "    .dataframe thead th {\n",
       "        text-align: right;\n",
       "    }\n",
       "</style>\n",
       "<table border=\"1\" class=\"dataframe\">\n",
       "  <thead>\n",
       "    <tr style=\"text-align: right;\">\n",
       "      <th></th>\n",
       "      <th>Unnamed: 0</th>\n",
       "      <th>Time</th>\n",
       "      <th>name</th>\n",
       "      <th>lon</th>\n",
       "      <th>lat</th>\n",
       "      <th>band</th>\n",
       "      <th>pixel</th>\n",
       "      <th>cloud</th>\n",
       "      <th>terrian</th>\n",
       "      <th>cloudconfidence</th>\n",
       "      <th>cloudshade</th>\n",
       "      <th>CH_value</th>\n",
       "    </tr>\n",
       "  </thead>\n",
       "  <tbody>\n",
       "    <tr>\n",
       "      <th>0</th>\n",
       "      <td>0</td>\n",
       "      <td>2017-03-25</td>\n",
       "      <td>姉川沖</td>\n",
       "      <td>35.38681</td>\n",
       "      <td>136.212837</td>\n",
       "      <td>B1.TIF</td>\n",
       "      <td>10118</td>\n",
       "      <td>0</td>\n",
       "      <td>0</td>\n",
       "      <td>1</td>\n",
       "      <td>3</td>\n",
       "      <td>5.042857</td>\n",
       "    </tr>\n",
       "    <tr>\n",
       "      <th>1</th>\n",
       "      <td>1</td>\n",
       "      <td>2017-03-25</td>\n",
       "      <td>姉川沖</td>\n",
       "      <td>35.38681</td>\n",
       "      <td>136.212837</td>\n",
       "      <td>B2.TIF</td>\n",
       "      <td>9102</td>\n",
       "      <td>0</td>\n",
       "      <td>0</td>\n",
       "      <td>1</td>\n",
       "      <td>3</td>\n",
       "      <td>5.042857</td>\n",
       "    </tr>\n",
       "    <tr>\n",
       "      <th>2</th>\n",
       "      <td>2</td>\n",
       "      <td>2017-03-25</td>\n",
       "      <td>姉川沖</td>\n",
       "      <td>35.38681</td>\n",
       "      <td>136.212837</td>\n",
       "      <td>B3.TIF</td>\n",
       "      <td>7809</td>\n",
       "      <td>0</td>\n",
       "      <td>0</td>\n",
       "      <td>1</td>\n",
       "      <td>3</td>\n",
       "      <td>5.042857</td>\n",
       "    </tr>\n",
       "    <tr>\n",
       "      <th>3</th>\n",
       "      <td>3</td>\n",
       "      <td>2017-03-25</td>\n",
       "      <td>姉川沖</td>\n",
       "      <td>35.38681</td>\n",
       "      <td>136.212837</td>\n",
       "      <td>B4.TIF</td>\n",
       "      <td>7083</td>\n",
       "      <td>0</td>\n",
       "      <td>0</td>\n",
       "      <td>1</td>\n",
       "      <td>3</td>\n",
       "      <td>5.042857</td>\n",
       "    </tr>\n",
       "    <tr>\n",
       "      <th>4</th>\n",
       "      <td>4</td>\n",
       "      <td>2017-03-25</td>\n",
       "      <td>姉川沖</td>\n",
       "      <td>35.38681</td>\n",
       "      <td>136.212837</td>\n",
       "      <td>B5.TIF</td>\n",
       "      <td>6610</td>\n",
       "      <td>0</td>\n",
       "      <td>0</td>\n",
       "      <td>1</td>\n",
       "      <td>3</td>\n",
       "      <td>5.042857</td>\n",
       "    </tr>\n",
       "  </tbody>\n",
       "</table>\n",
       "</div>"
      ],
      "text/plain": [
       "   Unnamed: 0       Time name       lon         lat    band  pixel  cloud  \\\n",
       "0           0 2017-03-25  姉川沖  35.38681  136.212837  B1.TIF  10118      0   \n",
       "1           1 2017-03-25  姉川沖  35.38681  136.212837  B2.TIF   9102      0   \n",
       "2           2 2017-03-25  姉川沖  35.38681  136.212837  B3.TIF   7809      0   \n",
       "3           3 2017-03-25  姉川沖  35.38681  136.212837  B4.TIF   7083      0   \n",
       "4           4 2017-03-25  姉川沖  35.38681  136.212837  B5.TIF   6610      0   \n",
       "\n",
       "   terrian  cloudconfidence  cloudshade  CH_value  \n",
       "0        0                1           3  5.042857  \n",
       "1        0                1           3  5.042857  \n",
       "2        0                1           3  5.042857  \n",
       "3        0                1           3  5.042857  \n",
       "4        0                1           3  5.042857  "
      ]
     },
     "execution_count": 2,
     "metadata": {},
     "output_type": "execute_result"
    }
   ],
   "source": [
    "import pandas as pd\n",
    "import numpy as np\n",
    "\n",
    "\n",
    "all_data = pd.read_excel(\"./all_data2.xlsx\")\n",
    "all_data.head()"
   ]
  },
  {
   "cell_type": "code",
   "execution_count": 3,
   "metadata": {},
   "outputs": [
    {
     "data": {
      "text/plain": [
       "Unnamed: 0                  int64\n",
       "Time               datetime64[ns]\n",
       "name                       object\n",
       "lon                       float64\n",
       "lat                       float64\n",
       "band                       object\n",
       "pixel                       int64\n",
       "cloud                       int64\n",
       "terrian                     int64\n",
       "cloudconfidence             int64\n",
       "cloudshade                  int64\n",
       "CH_value                  float64\n",
       "dtype: object"
      ]
     },
     "execution_count": 3,
     "metadata": {},
     "output_type": "execute_result"
    }
   ],
   "source": [
    "all_data.dtypes"
   ]
  },
  {
   "cell_type": "code",
   "execution_count": null,
   "metadata": {},
   "outputs": [],
   "source": []
  },
  {
   "cell_type": "code",
   "execution_count": 4,
   "metadata": {},
   "outputs": [
    {
     "data": {
      "text/plain": [
       "Unnamed: 0          0\n",
       "Time                0\n",
       "name                0\n",
       "lon                 0\n",
       "lat                 0\n",
       "band                0\n",
       "pixel               0\n",
       "cloud               0\n",
       "terrian             0\n",
       "cloudconfidence     0\n",
       "cloudshade          0\n",
       "CH_value           22\n",
       "dtype: int64"
      ]
     },
     "execution_count": 4,
     "metadata": {},
     "output_type": "execute_result"
    }
   ],
   "source": [
    "all_data.isnull().sum()"
   ]
  },
  {
   "cell_type": "code",
   "execution_count": 5,
   "metadata": {},
   "outputs": [
    {
     "data": {
      "text/plain": [
       "(12583, 12)"
      ]
     },
     "execution_count": 5,
     "metadata": {},
     "output_type": "execute_result"
    }
   ],
   "source": [
    "all_data.shape"
   ]
  },
  {
   "cell_type": "code",
   "execution_count": 6,
   "metadata": {},
   "outputs": [],
   "source": [
    "all_data_2 = all_data.dropna()"
   ]
  },
  {
   "cell_type": "code",
   "execution_count": 7,
   "metadata": {},
   "outputs": [
    {
     "data": {
      "text/plain": [
       "(12561, 12)"
      ]
     },
     "execution_count": 7,
     "metadata": {},
     "output_type": "execute_result"
    }
   ],
   "source": [
    "all_data_2.shape"
   ]
  },
  {
   "cell_type": "code",
   "execution_count": 8,
   "metadata": {},
   "outputs": [
    {
     "data": {
      "text/plain": [
       "Unnamed: 0         0\n",
       "Time               0\n",
       "name               0\n",
       "lon                0\n",
       "lat                0\n",
       "band               0\n",
       "pixel              0\n",
       "cloud              0\n",
       "terrian            0\n",
       "cloudconfidence    0\n",
       "cloudshade         0\n",
       "CH_value           0\n",
       "dtype: int64"
      ]
     },
     "execution_count": 8,
     "metadata": {},
     "output_type": "execute_result"
    }
   ],
   "source": [
    "all_data_2.isnull().sum()"
   ]
  },
  {
   "cell_type": "code",
   "execution_count": 11,
   "metadata": {},
   "outputs": [
    {
     "name": "stdout",
     "output_type": "stream",
     "text": [
      "['2017-03-25T00:00:00.000000000' '2017-03-09T00:00:00.000000000'\n",
      " '2017-05-12T00:00:00.000000000' '2017-05-28T00:00:00.000000000'\n",
      " '2017-06-13T00:00:00.000000000' '2017-06-29T00:00:00.000000000'\n",
      " '2017-07-15T00:00:00.000000000' '2017-07-31T00:00:00.000000000'\n",
      " '2017-08-16T00:00:00.000000000' '2017-09-01T00:00:00.000000000'\n",
      " '2017-11-04T00:00:00.000000000' '2017-11-20T00:00:00.000000000'\n",
      " '2017-12-06T00:00:00.000000000' '2017-12-22T00:00:00.000000000'\n",
      " '2018-01-07T00:00:00.000000000' '2018-01-23T00:00:00.000000000'\n",
      " '2018-02-08T00:00:00.000000000' '2018-02-24T00:00:00.000000000'\n",
      " '2018-03-12T00:00:00.000000000' '2018-03-28T00:00:00.000000000'\n",
      " '2018-04-13T00:00:00.000000000' '2018-04-29T00:00:00.000000000'\n",
      " '2018-05-15T00:00:00.000000000' '2018-06-16T00:00:00.000000000'\n",
      " '2018-07-02T00:00:00.000000000' '2018-07-18T00:00:00.000000000'\n",
      " '2018-08-03T00:00:00.000000000' '2018-08-19T00:00:00.000000000'\n",
      " '2018-09-04T00:00:00.000000000' '2018-10-06T00:00:00.000000000'\n",
      " '2018-10-22T00:00:00.000000000' '2018-11-07T00:00:00.000000000'\n",
      " '2018-11-23T00:00:00.000000000' '2018-12-09T00:00:00.000000000'\n",
      " '2015-01-31T00:00:00.000000000' '2015-02-16T00:00:00.000000000'\n",
      " '2015-03-20T00:00:00.000000000' '2015-05-07T00:00:00.000000000'\n",
      " '2015-05-23T00:00:00.000000000' '2015-06-08T00:00:00.000000000'\n",
      " '2015-06-24T00:00:00.000000000' '2015-07-10T00:00:00.000000000'\n",
      " '2015-07-26T00:00:00.000000000' '2015-08-11T00:00:00.000000000'\n",
      " '2015-08-27T00:00:00.000000000' '2015-09-12T00:00:00.000000000'\n",
      " '2015-09-28T00:00:00.000000000' '2015-10-14T00:00:00.000000000'\n",
      " '2015-10-30T00:00:00.000000000' '2015-12-01T00:00:00.000000000'\n",
      " '2015-12-17T00:00:00.000000000' '2016-01-02T00:00:00.000000000'\n",
      " '2016-02-03T00:00:00.000000000' '2016-02-19T00:00:00.000000000'\n",
      " '2016-03-06T00:00:00.000000000' '2016-03-22T00:00:00.000000000'\n",
      " '2016-04-23T00:00:00.000000000' '2016-06-10T00:00:00.000000000'\n",
      " '2016-06-26T00:00:00.000000000' '2016-07-28T00:00:00.000000000'\n",
      " '2016-08-13T00:00:00.000000000' '2016-08-29T00:00:00.000000000'\n",
      " '2016-09-14T00:00:00.000000000' '2016-09-30T00:00:00.000000000'\n",
      " '2016-10-16T00:00:00.000000000' '2016-11-17T00:00:00.000000000'\n",
      " '2016-12-03T00:00:00.000000000' '2016-12-19T00:00:00.000000000'\n",
      " '2017-01-04T00:00:00.000000000' '2017-01-20T00:00:00.000000000'\n",
      " '2017-02-21T00:00:00.000000000' '2017-04-03T00:00:00.000000000'\n",
      " '2017-03-18T00:00:00.000000000' '2017-04-19T00:00:00.000000000'\n",
      " '2017-05-05T00:00:00.000000000' '2017-05-21T00:00:00.000000000'\n",
      " '2017-06-06T00:00:00.000000000' '2017-06-22T00:00:00.000000000'\n",
      " '2017-07-08T00:00:00.000000000' '2017-07-24T00:00:00.000000000'\n",
      " '2017-08-09T00:00:00.000000000' '2017-08-25T00:00:00.000000000'\n",
      " '2017-09-10T00:00:00.000000000' '2017-09-26T00:00:00.000000000'\n",
      " '2017-10-12T00:00:00.000000000' '2017-11-13T00:00:00.000000000'\n",
      " '2017-11-29T00:00:00.000000000' '2017-12-15T00:00:00.000000000'\n",
      " '2017-12-31T00:00:00.000000000' '2018-01-16T00:00:00.000000000'\n",
      " '2018-02-17T00:00:00.000000000' '2018-04-22T00:00:00.000000000'\n",
      " '2018-05-24T00:00:00.000000000' '2018-06-09T00:00:00.000000000'\n",
      " '2018-06-25T00:00:00.000000000' '2018-07-11T00:00:00.000000000'\n",
      " '2018-07-27T00:00:00.000000000' '2018-08-12T00:00:00.000000000'\n",
      " '2018-08-28T00:00:00.000000000' '2018-09-13T00:00:00.000000000'\n",
      " '2018-10-31T00:00:00.000000000' '2018-11-16T00:00:00.000000000'\n",
      " '2018-12-02T00:00:00.000000000' '2018-12-18T00:00:00.000000000'\n",
      " '2015-01-08T00:00:00.000000000' '2015-01-24T00:00:00.000000000'\n",
      " '2015-02-09T00:00:00.000000000' '2015-02-25T00:00:00.000000000'\n",
      " '2015-03-13T00:00:00.000000000' '2015-04-30T00:00:00.000000000'\n",
      " '2015-06-01T00:00:00.000000000' '2015-06-17T00:00:00.000000000'\n",
      " '2015-08-04T00:00:00.000000000' '2015-09-05T00:00:00.000000000'\n",
      " '2015-09-21T00:00:00.000000000' '2015-10-07T00:00:00.000000000'\n",
      " '2015-10-23T00:00:00.000000000' '2015-11-24T00:00:00.000000000'\n",
      " '2015-12-10T00:00:00.000000000' '2015-12-26T00:00:00.000000000'\n",
      " '2016-01-11T00:00:00.000000000' '2016-01-27T00:00:00.000000000'\n",
      " '2016-02-12T00:00:00.000000000' '2016-02-28T00:00:00.000000000'\n",
      " '2016-03-15T00:00:00.000000000' '2016-03-31T00:00:00.000000000'\n",
      " '2016-04-16T00:00:00.000000000' '2016-05-02T00:00:00.000000000'\n",
      " '2016-05-18T00:00:00.000000000' '2016-06-03T00:00:00.000000000'\n",
      " '2016-07-05T00:00:00.000000000' '2016-07-21T00:00:00.000000000'\n",
      " '2016-08-06T00:00:00.000000000' '2016-08-22T00:00:00.000000000'\n",
      " '2016-09-07T00:00:00.000000000' '2016-11-10T00:00:00.000000000'\n",
      " '2016-11-26T00:00:00.000000000' '2016-12-12T00:00:00.000000000'\n",
      " '2016-12-28T00:00:00.000000000' '2017-01-13T00:00:00.000000000'\n",
      " '2017-01-29T00:00:00.000000000' '2017-02-14T00:00:00.000000000']\n"
     ]
    }
   ],
   "source": [
    "time = []\n",
    "time = all_data_2[\"Time\"].unique()\n",
    "print(time)"
   ]
  },
  {
   "cell_type": "code",
   "execution_count": 12,
   "metadata": {},
   "outputs": [
    {
     "data": {
      "text/plain": [
       "array(['姉川沖', '天野川沖', '彦根港沖', '蓮菜沖', '日の川沖', '大宮川沖', '大宮川沖中央', '知内川沖'],\n",
       "      dtype=object)"
      ]
     },
     "execution_count": 12,
     "metadata": {},
     "output_type": "execute_result"
    }
   ],
   "source": [
    "kyoten = []\n",
    "kyoten = all_data_2[\"name\"].unique()\n",
    "kyoten"
   ]
  },
  {
   "cell_type": "code",
   "execution_count": 13,
   "metadata": {},
   "outputs": [
    {
     "data": {
      "text/plain": [
       "(array(['B1.TIF', 'B10.TIF', 'B11.TIF', 'B2.TIF', 'B3.TIF', 'B4.TIF',\n",
       "        'B5.TIF', 'B6.TIF', 'B7.TIF', 'B8.TIF', 'B9.TIF'], dtype=object),\n",
       " array([1141, 1142, 1142, 1142, 1142, 1142, 1142, 1142, 1142, 1142, 1142],\n",
       "       dtype=int64))"
      ]
     },
     "execution_count": 13,
     "metadata": {},
     "output_type": "execute_result"
    }
   ],
   "source": [
    "np.unique(all_data_2[\"band\"],return_counts = True)"
   ]
  },
  {
   "cell_type": "code",
   "execution_count": 162,
   "metadata": {},
   "outputs": [
    {
     "data": {
      "text/plain": [
       "array([[numpy.datetime64('2017-03-25T00:00:00.000000000'), '姉川沖',\n",
       "        array([10118,  9102,  7809,  7083,  6610,  5867,  5663,  7467,  5282,\n",
       "       19818, 18751], dtype=int64),\n",
       "        array([0, 0, 1, 3], dtype=int64), 5.042857142857143],\n",
       "       [numpy.datetime64('2017-03-25T00:00:00.000000000'), '天野川沖',\n",
       "        array([11505, 10443,  9137,  8595,  8440,  6879,  6622,  8891,  5832,\n",
       "       18872, 18048], dtype=int64),\n",
       "        array([1, 0, 3, 1], dtype=int64), 5.385714285714286],\n",
       "       [numpy.datetime64('2017-03-25T00:00:00.000000000'), '彦根港沖',\n",
       "        array([11487, 10326,  9673,  8788,  8332,  7186,  6848,  8808,  5877,\n",
       "       18721, 17630], dtype=int64),\n",
       "        array([1, 0, 3, 1], dtype=int64), 6.457142857142857],\n",
       "       ...,\n",
       "       [numpy.datetime64('2017-02-14T00:00:00.000000000'), '大宮川沖',\n",
       "        array([16478, 15578, 13855, 13575, 13946, 10502,  9527, 13877,  5074,\n",
       "       16827, 16272], dtype=int64),\n",
       "        array([1, 0, 3, 1], dtype=int64), 5.2],\n",
       "       [numpy.datetime64('2017-02-14T00:00:00.000000000'), '大宮川沖中央',\n",
       "        array([25701, 25632, 24003, 24956, 26335, 19614, 16795, 24580,  5217,\n",
       "       15364, 15132], dtype=int64),\n",
       "        array([1, 0, 3, 1], dtype=int64), 5.6],\n",
       "       [numpy.datetime64('2017-02-14T00:00:00.000000000'), '知内川沖',\n",
       "        array([20972, 20387, 18497, 18713, 19180, 13451, 11020, 18902,  5074,\n",
       "       17418, 16833], dtype=int64),\n",
       "        array([1, 0, 3, 1], dtype=int64), 6.666666666666666]],\n",
       "      dtype=object)"
      ]
     },
     "execution_count": 162,
     "metadata": {},
     "output_type": "execute_result"
    }
   ],
   "source": [
    "list = []\n",
    "pixel = []\n",
    "CH = []\n",
    "C_t_CC_CS = []\n",
    "for t in time:\n",
    "    for n in kyoten:\n",
    "        pixel = all_data_2[\"pixel\"][(all_data_2[\"Time\"] == t) & (all_data_2[\"name\"] == n)].values\n",
    "        CH = all_data_2[\"CH_value\"][(all_data_2[\"Time\"] == t) & (all_data_2[\"name\"] == n)].values\n",
    "        C_t_CC_CS = all_data_2[[\"cloud\",\"terrian\",\"cloudconfidence\",\"cloudshade\"]][(all_data_2[\"Time\"] == t) & (all_data_2[\"name\"] == n)].values\n",
    "        #print(CH1)\n",
    "        if len(CH) != 0:\n",
    "            list += [[t,n,pixel,C_t_CC_CS[0],CH[0]]]\n",
    "    \n",
    "#print(list)   \n",
    "\n",
    "#array = np.array(list)\n",
    "#rray\n",
    "array7 = np.array(list)\n",
    "array7"
   ]
  },
  {
   "cell_type": "code",
   "execution_count": 163,
   "metadata": {},
   "outputs": [],
   "source": [
    "#np.savetxt(\"./data_array_success.txt\",array7,fmt = \"%s\")"
   ]
  },
  {
   "cell_type": "code",
   "execution_count": 38,
   "metadata": {},
   "outputs": [
    {
     "data": {
      "text/plain": [
       "array([], dtype=int64)"
      ]
     },
     "execution_count": 38,
     "metadata": {},
     "output_type": "execute_result"
    }
   ],
   "source": [
    "all_data_2[(all_data_2[\"name\"]== \"知内川\") & (all_data_2[\"Time\"] == pd.to_datetime(str(20170214)))][\"cloud\"].values"
   ]
  },
  {
   "cell_type": "code",
   "execution_count": 42,
   "metadata": {},
   "outputs": [
    {
     "data": {
      "text/plain": [
       "array([[0, 0, 1, 3],\n",
       "       [0, 0, 1, 3],\n",
       "       [0, 0, 1, 3],\n",
       "       [0, 0, 1, 3],\n",
       "       [0, 0, 1, 3],\n",
       "       [0, 0, 1, 3],\n",
       "       [0, 0, 1, 3],\n",
       "       [0, 0, 1, 3],\n",
       "       [0, 0, 1, 3],\n",
       "       [0, 0, 1, 3],\n",
       "       [0, 0, 1, 3]], dtype=int64)"
      ]
     },
     "execution_count": 42,
     "metadata": {},
     "output_type": "execute_result"
    }
   ],
   "source": [
    "all_data_2[(all_data_2[\"Time\"]== pd.to_datetime(str(20170325))) & (all_data_2[\"name\"] == \"姉川沖\")][[\"cloud\",\"terrian\",\"cloudconfidence\",\"cloudshade\"]].values"
   ]
  },
  {
   "cell_type": "code",
   "execution_count": 164,
   "metadata": {},
   "outputs": [
    {
     "data": {
      "text/plain": [
       "array([[array([10118,  9102,  7809,  7083,  6610,  5867,  5663,  7467,  5282,\n",
       "       19818, 18751], dtype=int64),\n",
       "        0, 0, 1, 3, 5.042857142857143],\n",
       "       [array([11505, 10443,  9137,  8595,  8440,  6879,  6622,  8891,  5832,\n",
       "       18872, 18048], dtype=int64),\n",
       "        1, 0, 3, 1, 5.385714285714286],\n",
       "       [array([11487, 10326,  9673,  8788,  8332,  7186,  6848,  8808,  5877,\n",
       "       18721, 17630], dtype=int64),\n",
       "        1, 0, 3, 1, 6.457142857142857],\n",
       "       ...,\n",
       "       [array([16478, 15578, 13855, 13575, 13946, 10502,  9527, 13877,  5074,\n",
       "       16827, 16272], dtype=int64),\n",
       "        1, 0, 3, 1, 5.2],\n",
       "       [array([25701, 25632, 24003, 24956, 26335, 19614, 16795, 24580,  5217,\n",
       "       15364, 15132], dtype=int64),\n",
       "        1, 0, 3, 1, 5.6],\n",
       "       [array([20972, 20387, 18497, 18713, 19180, 13451, 11020, 18902,  5074,\n",
       "       17418, 16833], dtype=int64),\n",
       "        1, 0, 3, 1, 6.666666666666666]], dtype=object)"
      ]
     },
     "execution_count": 164,
     "metadata": {},
     "output_type": "execute_result"
    }
   ],
   "source": [
    "list2 = []\n",
    "list3 = []\n",
    "list4 = []\n",
    "pixel2 = []\n",
    "CH2 = []\n",
    "Cloud = []\n",
    "terrian = []\n",
    "CC = []\n",
    "CS = []\n",
    "for t in time:\n",
    "    for n in kyoten:\n",
    "        pixel2 = all_data_2[\"pixel\"][(all_data_2[\"Time\"] == t) & (all_data_2[\"name\"] == n)].values\n",
    "        CH2 = all_data_2[\"CH_value\"][(all_data_2[\"Time\"] == t) & (all_data_2[\"name\"] == n)].values\n",
    "        Cloud= all_data_2[\"cloud\"][(all_data_2[\"Time\"] == t) & (all_data_2[\"name\"] == n)].values\n",
    "        terrian = all_data_2[\"terrian\"][(all_data_2[\"Time\"] == t) & (all_data_2[\"name\"] == n)].values\n",
    "        CC = all_data_2[\"cloudconfidence\"][(all_data_2[\"Time\"] == t) & (all_data_2[\"name\"] == n)].values\n",
    "        CS = all_data_2[\"cloudshade\"][(all_data_2[\"Time\"] == t) & (all_data_2[\"name\"] == n)].values\n",
    "        #print(CH1)\n",
    "        if len(CH2) != 0:\n",
    "            list2 += [[pixel2,Cloud[0],terrian[0],CC[0], CS[0],CH2[0]]]\n",
    "            list3 += [[pixel,Cloud[0],terrian[0],CC[0],CS[0]]]\n",
    "            list4 += [[CH2[0]]]\n",
    "    \n",
    "#print(list)   \n",
    "\n",
    "#array = np.array(list)\n",
    "#rray\n",
    "array8 = np.array(list2)\n",
    "array8"
   ]
  },
  {
   "cell_type": "code",
   "execution_count": 104,
   "metadata": {},
   "outputs": [
    {
     "data": {
      "text/plain": [
       "(1134, 6)"
      ]
     },
     "execution_count": 104,
     "metadata": {},
     "output_type": "execute_result"
    }
   ],
   "source": [
    "array8.shape"
   ]
  },
  {
   "cell_type": "code",
   "execution_count": 146,
   "metadata": {},
   "outputs": [],
   "source": [
    "np.savetxt(\"./data_array_honbanyou.txt\",array8,fmt = \"%s\")"
   ]
  },
  {
   "cell_type": "code",
   "execution_count": 148,
   "metadata": {},
   "outputs": [],
   "source": [
    "data_array = np.array(list3)\n",
    "CH_array = np.array(list4)"
   ]
  },
  {
   "cell_type": "code",
   "execution_count": 167,
   "metadata": {},
   "outputs": [
    {
     "data": {
      "text/plain": [
       "(1134, 5)"
      ]
     },
     "execution_count": 167,
     "metadata": {},
     "output_type": "execute_result"
    }
   ],
   "source": [
    "data_array.shape"
   ]
  },
  {
   "cell_type": "code",
   "execution_count": 168,
   "metadata": {},
   "outputs": [
    {
     "data": {
      "text/plain": [
       "(1134, 1)"
      ]
     },
     "execution_count": 168,
     "metadata": {},
     "output_type": "execute_result"
    }
   ],
   "source": [
    "CH_array.shape"
   ]
  },
  {
   "cell_type": "code",
   "execution_count": 149,
   "metadata": {},
   "outputs": [
    {
     "data": {
      "text/plain": [
       "array([[array([20972, 20387, 18497, 18713, 19180, 13451, 11020, 18902,  5074,\n",
       "       17418, 16833], dtype=int64),\n",
       "        0, 0, 1, 3],\n",
       "       [array([20972, 20387, 18497, 18713, 19180, 13451, 11020, 18902,  5074,\n",
       "       17418, 16833], dtype=int64),\n",
       "        1, 0, 3, 1],\n",
       "       [array([20972, 20387, 18497, 18713, 19180, 13451, 11020, 18902,  5074,\n",
       "       17418, 16833], dtype=int64),\n",
       "        1, 0, 3, 1],\n",
       "       ...,\n",
       "       [array([20972, 20387, 18497, 18713, 19180, 13451, 11020, 18902,  5074,\n",
       "       17418, 16833], dtype=int64),\n",
       "        1, 0, 3, 1],\n",
       "       [array([20972, 20387, 18497, 18713, 19180, 13451, 11020, 18902,  5074,\n",
       "       17418, 16833], dtype=int64),\n",
       "        1, 0, 3, 1],\n",
       "       [array([20972, 20387, 18497, 18713, 19180, 13451, 11020, 18902,  5074,\n",
       "       17418, 16833], dtype=int64),\n",
       "        1, 0, 3, 1]], dtype=object)"
      ]
     },
     "execution_count": 149,
     "metadata": {},
     "output_type": "execute_result"
    }
   ],
   "source": [
    "data_array"
   ]
  },
  {
   "cell_type": "code",
   "execution_count": 150,
   "metadata": {},
   "outputs": [
    {
     "data": {
      "text/plain": [
       "array([[5.04285714],\n",
       "       [5.38571429],\n",
       "       [6.45714286],\n",
       "       ...,\n",
       "       [5.2       ],\n",
       "       [5.6       ],\n",
       "       [6.66666667]])"
      ]
     },
     "execution_count": 150,
     "metadata": {},
     "output_type": "execute_result"
    }
   ],
   "source": [
    "CH_array"
   ]
  },
  {
   "cell_type": "code",
   "execution_count": 151,
   "metadata": {},
   "outputs": [],
   "source": [
    "np.savetxt(\"./input_array.txt\",data_array,fmt = \"%s\")"
   ]
  },
  {
   "cell_type": "code",
   "execution_count": 152,
   "metadata": {},
   "outputs": [],
   "source": [
    "np.savetxt(\"./CH_array.txt\",CH_array,fmt = \"%s\")"
   ]
  },
  {
   "cell_type": "code",
   "execution_count": 10,
   "metadata": {},
   "outputs": [
    {
     "data": {
      "text/plain": [
       "array([[439, Timestamp('2017-06-29 00:00:00'), '知内川沖', 35.450881,\n",
       "        136.065759, 'B1.TIF', 22966, 1, 0, 3, 1, 3.12],\n",
       "       [440, Timestamp('2017-06-29 00:00:00'), '知内川沖', 35.450881,\n",
       "        136.065759, 'B2.TIF', 22459, 1, 0, 3, 1, 3.12],\n",
       "       [441, Timestamp('2017-06-29 00:00:00'), '知内川沖', 35.450881,\n",
       "        136.065759, 'B3.TIF', 20315, 1, 0, 3, 1, 3.12],\n",
       "       [442, Timestamp('2017-06-29 00:00:00'), '知内川沖', 35.450881,\n",
       "        136.065759, 'B4.TIF', 20177, 1, 0, 3, 1, 3.12],\n",
       "       [443, Timestamp('2017-06-29 00:00:00'), '知内川沖', 35.450881,\n",
       "        136.065759, 'B5.TIF', 24104, 1, 0, 3, 1, 3.12],\n",
       "       [444, Timestamp('2017-06-29 00:00:00'), '知内川沖', 35.450881,\n",
       "        136.065759, 'B6.TIF', 18704, 1, 0, 3, 1, 3.12],\n",
       "       [445, Timestamp('2017-06-29 00:00:00'), '知内川沖', 35.450881,\n",
       "        136.065759, 'B7.TIF', 16747, 1, 0, 3, 1, 3.12],\n",
       "       [446, Timestamp('2017-06-29 00:00:00'), '知内川沖', 35.450881,\n",
       "        136.065759, 'B8.TIF', 20536, 1, 0, 3, 1, 3.12],\n",
       "       [447, Timestamp('2017-06-29 00:00:00'), '知内川沖', 35.450881,\n",
       "        136.065759, 'B9.TIF', 6076, 1, 0, 3, 1, 3.12],\n",
       "       [448, Timestamp('2017-06-29 00:00:00'), '知内川沖', 35.450881,\n",
       "        136.065759, 'B10.TIF', 14786, 1, 0, 3, 1, 3.12],\n",
       "       [449, Timestamp('2017-06-29 00:00:00'), '知内川沖', 35.450881,\n",
       "        136.065759, 'B11.TIF', 14281, 1, 0, 3, 1, 3.12],\n",
       "       [450, Timestamp('2017-06-29 00:00:00'), '知内川沖', 35.450881,\n",
       "        136.065759, 'B1.TIF', 22966, 1, 0, 3, 1, 3.12],\n",
       "       [451, Timestamp('2017-06-29 00:00:00'), '知内川沖', 35.450881,\n",
       "        136.065759, 'B2.TIF', 22459, 1, 0, 3, 1, 3.12],\n",
       "       [452, Timestamp('2017-06-29 00:00:00'), '知内川沖', 35.450881,\n",
       "        136.065759, 'B3.TIF', 20315, 1, 0, 3, 1, 3.12],\n",
       "       [453, Timestamp('2017-06-29 00:00:00'), '知内川沖', 35.450881,\n",
       "        136.065759, 'B4.TIF', 20177, 1, 0, 3, 1, 3.12],\n",
       "       [454, Timestamp('2017-06-29 00:00:00'), '知内川沖', 35.450881,\n",
       "        136.065759, 'B5.TIF', 24104, 1, 0, 3, 1, 3.12],\n",
       "       [455, Timestamp('2017-06-29 00:00:00'), '知内川沖', 35.450881,\n",
       "        136.065759, 'B6.TIF', 18704, 1, 0, 3, 1, 3.12],\n",
       "       [456, Timestamp('2017-06-29 00:00:00'), '知内川沖', 35.450881,\n",
       "        136.065759, 'B7.TIF', 16747, 1, 0, 3, 1, 3.12],\n",
       "       [457, Timestamp('2017-06-29 00:00:00'), '知内川沖', 35.450881,\n",
       "        136.065759, 'B8.TIF', 20536, 1, 0, 3, 1, 3.12],\n",
       "       [458, Timestamp('2017-06-29 00:00:00'), '知内川沖', 35.450881,\n",
       "        136.065759, 'B9.TIF', 6076, 1, 0, 3, 1, 3.12],\n",
       "       [459, Timestamp('2017-06-29 00:00:00'), '知内川沖', 35.450881,\n",
       "        136.065759, 'B10.TIF', 14786, 1, 0, 3, 1, 3.12],\n",
       "       [460, Timestamp('2017-06-29 00:00:00'), '知内川沖', 35.450881,\n",
       "        136.065759, 'B11.TIF', 14281, 1, 0, 3, 1, 3.12]], dtype=object)"
      ]
     },
     "execution_count": 10,
     "metadata": {},
     "output_type": "execute_result"
    }
   ],
   "source": [
    "all_data_2[(all_data_2[\"name\"]==\"知内川沖\") & (all_data_2[\"Time\"] == pd.to_datetime(str(20170629)))].values"
   ]
  },
  {
   "cell_type": "code",
   "execution_count": null,
   "metadata": {},
   "outputs": [],
   "source": []
  }
 ],
 "metadata": {
  "kernelspec": {
   "display_name": "Python 3",
   "language": "python",
   "name": "python3"
  },
  "language_info": {
   "codemirror_mode": {
    "name": "ipython",
    "version": 3
   },
   "file_extension": ".py",
   "mimetype": "text/x-python",
   "name": "python",
   "nbconvert_exporter": "python",
   "pygments_lexer": "ipython3",
   "version": "3.7.4"
  }
 },
 "nbformat": 4,
 "nbformat_minor": 4
}
