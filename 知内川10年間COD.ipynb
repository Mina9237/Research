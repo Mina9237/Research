{
 "cells": [
  {
   "cell_type": "code",
   "execution_count": 1,
   "metadata": {},
   "outputs": [
    {
     "name": "stdout",
     "output_type": "stream",
     "text": [
      "           採水日  クロロフィル    気温    水温   透明度    DO  COD     TP    TN   pH\n",
      "0   2007-01-09     1.5   8.8   9.4   8.8  10.0  2.2  0.005  0.32  7.4\n",
      "1   2007-02-05     1.4   8.0   8.8  10.8  10.5  2.2  0.004  0.30  7.3\n",
      "2   2007-03-05     2.0  16.8   9.8   9.0  11.1  2.3  0.006  0.33  7.5\n",
      "3   2007-04-09     1.7  14.0  10.1   9.0  11.6  2.3  0.006  0.35  7.6\n",
      "4   2007-05-07     3.6  18.4  14.6   6.0  11.4  2.5  0.008  0.31  8.0\n",
      "..         ...     ...   ...   ...   ...   ...  ...    ...   ...  ...\n",
      "147 2019-04-02     3.2   7.3   8.8   9.0  11.4  2.1  0.006  0.25  7.5\n",
      "148 2019-05-08     1.7  16.9  12.6  10.6  11.2  1.8  0.004  0.21  7.9\n",
      "149 2019-06-05     2.0  26.3  23.4   8.6   9.7  2.4  0.008  0.19  8.0\n",
      "150 2019-07-02     1.9  24.6  24.2   6.4   9.1  2.7  0.008  0.15  8.5\n",
      "151 2019-08-05     1.3  30.8  29.9   6.8   8.1  2.4  0.005  0.18  7.9\n",
      "\n",
      "[152 rows x 10 columns]\n"
     ]
    }
   ],
   "source": [
    "import pandas as pd\n",
    "import numpy as np\n",
    "import statsmodels.formula.api as sm #回帰分析\n",
    "import seaborn#散布図に回帰直性ひく\n",
    "from statsmodels.tsa.statespace.sarimax import SARIMAX\n",
    "chinai_data = pd.read_excel(\"知内川13年.xlsx\")\n",
    "print(chinai_data)"
   ]
  },
  {
   "cell_type": "code",
   "execution_count": 16,
   "metadata": {},
   "outputs": [
    {
     "name": "stdout",
     "output_type": "stream",
     "text": [
      "                                      SARIMAX Results                                       \n",
      "============================================================================================\n",
      "Dep. Variable:                               クロロフィル   No. Observations:                    8\n",
      "Model:             SARIMAX(3, 1, 2)x(1, 1, [1], 12)   Log Likelihood                   0.000\n",
      "Date:                              Wed, 19 Feb 2020   AIC                             16.000\n",
      "Time:                                      11:46:58   BIC                                nan\n",
      "Sample:                                           0   HQIC                               nan\n",
      "                                                - 8                                         \n",
      "Covariance Type:                                opg                                         \n",
      "==============================================================================\n",
      "                 coef    std err          z      P>|z|      [0.025      0.975]\n",
      "------------------------------------------------------------------------------\n",
      "ar.L1               0         -0        nan        nan           0           0\n",
      "ar.L2               0         -0        nan        nan           0           0\n",
      "ar.L3               0         -0        nan        nan           0           0\n",
      "ma.L1               0         -0        nan        nan           0           0\n",
      "ma.L2               0         -0        nan        nan           0           0\n",
      "ar.S.L12            0         -0        nan        nan           0           0\n",
      "ma.S.L12            0         -0        nan        nan           0           0\n",
      "sigma2         1.0000         -0       -inf      0.000       1.000       1.000\n",
      "===================================================================================\n",
      "Ljung-Box (Q):                         nan   Jarque-Bera (JB):                  nan\n",
      "Prob(Q):                               nan   Prob(JB):                          nan\n",
      "Heteroskedasticity (H):                nan   Skew:                              nan\n",
      "Prob(H) (two-sided):                   nan   Kurtosis:                          nan\n",
      "===================================================================================\n",
      "\n",
      "Warnings:\n",
      "[1] Covariance matrix calculated using the outer product of gradients (complex-step).\n",
      "[2] Covariance matrix is singular or near-singular, with condition number    inf. Standard errors may be unstable.\n"
     ]
    },
    {
     "name": "stderr",
     "output_type": "stream",
     "text": [
      "C:\\Users\\meina\\Anaconda3\\lib\\site-packages\\statsmodels\\tsa\\base\\tsa_model.py:218: ValueWarning: A date index has been provided, but it has no associated frequency information and so will be ignored when e.g. forecasting.\n",
      "  ' ignored when e.g. forecasting.', ValueWarning)\n",
      "C:\\Users\\meina\\Anaconda3\\lib\\site-packages\\statsmodels\\tsa\\base\\tsa_model.py:218: ValueWarning: A date index has been provided, but it has no associated frequency information and so will be ignored when e.g. forecasting.\n",
      "  ' ignored when e.g. forecasting.', ValueWarning)\n"
     ]
    }
   ],
   "source": [
    "採水日= pd.Series(chinai_data['クロロフィル'])\n",
    "sarimax = SARIMAX(採水日,order=(3,1,2),seasonal_order=(1,1,1,12),enforce_stationarity=False,enforce_invertibility=False).fit()\n",
    "print(sarimax.summary())"
   ]
  },
  {
   "cell_type": "code",
   "execution_count": 2,
   "metadata": {},
   "outputs": [
    {
     "name": "stderr",
     "output_type": "stream",
     "text": [
      "C:\\Users\\meina\\Anaconda3\\lib\\site-packages\\matplotlib\\backends\\backend_agg.py:211: RuntimeWarning: Glyph 25505 missing from current font.\n",
      "  font.set_text(s, 0.0, flags=flags)\n",
      "C:\\Users\\meina\\Anaconda3\\lib\\site-packages\\matplotlib\\backends\\backend_agg.py:211: RuntimeWarning: Glyph 27700 missing from current font.\n",
      "  font.set_text(s, 0.0, flags=flags)\n",
      "C:\\Users\\meina\\Anaconda3\\lib\\site-packages\\matplotlib\\backends\\backend_agg.py:211: RuntimeWarning: Glyph 26085 missing from current font.\n",
      "  font.set_text(s, 0.0, flags=flags)\n",
      "C:\\Users\\meina\\Anaconda3\\lib\\site-packages\\matplotlib\\backends\\backend_agg.py:180: RuntimeWarning: Glyph 25505 missing from current font.\n",
      "  font.set_text(s, 0, flags=flags)\n",
      "C:\\Users\\meina\\Anaconda3\\lib\\site-packages\\matplotlib\\backends\\backend_agg.py:180: RuntimeWarning: Glyph 27700 missing from current font.\n",
      "  font.set_text(s, 0, flags=flags)\n",
      "C:\\Users\\meina\\Anaconda3\\lib\\site-packages\\matplotlib\\backends\\backend_agg.py:180: RuntimeWarning: Glyph 26085 missing from current font.\n",
      "  font.set_text(s, 0, flags=flags)\n"
     ]
    },
    {
     "data": {
      "image/png": "[encoded data removed]",
      "text/plain": [
       "<Figure size 432x288 with 1 Axes>"
      ]
     },
     "metadata": {
      "needs_background": "light"
     },
     "output_type": "display_data"
    },
    {
     "name": "stderr",
     "output_type": "stream",
     "text": [
      "C:\\Users\\meina\\Anaconda3\\lib\\site-packages\\matplotlib\\backends\\backend_agg.py:211: RuntimeWarning: Glyph 27671 missing from current font.\n",
      "  font.set_text(s, 0.0, flags=flags)\n",
      "C:\\Users\\meina\\Anaconda3\\lib\\site-packages\\matplotlib\\backends\\backend_agg.py:211: RuntimeWarning: Glyph 28201 missing from current font.\n",
      "  font.set_text(s, 0.0, flags=flags)\n",
      "C:\\Users\\meina\\Anaconda3\\lib\\site-packages\\matplotlib\\backends\\backend_agg.py:180: RuntimeWarning: Glyph 27671 missing from current font.\n",
      "  font.set_text(s, 0, flags=flags)\n",
      "C:\\Users\\meina\\Anaconda3\\lib\\site-packages\\matplotlib\\backends\\backend_agg.py:180: RuntimeWarning: Glyph 28201 missing from current font.\n",
      "  font.set_text(s, 0, flags=flags)\n"
     ]
    },
    {
     "data": {
      "image/png": "[encoded data removed]",
      "text/plain": [
       "<Figure size 432x288 with 1 Axes>"
      ]
     },
     "metadata": {
      "needs_background": "light"
     },
     "output_type": "display_data"
    },
    {
     "data": {
      "image/png": "[encoded data removed]",
      "text/plain": [
       "<Figure size 432x288 with 1 Axes>"
      ]
     },
     "metadata": {
      "needs_background": "light"
     },
     "output_type": "display_data"
    },
    {
     "name": "stderr",
     "output_type": "stream",
     "text": [
      "C:\\Users\\meina\\Anaconda3\\lib\\site-packages\\matplotlib\\backends\\backend_agg.py:211: RuntimeWarning: Glyph 36879 missing from current font.\n",
      "  font.set_text(s, 0.0, flags=flags)\n",
      "C:\\Users\\meina\\Anaconda3\\lib\\site-packages\\matplotlib\\backends\\backend_agg.py:211: RuntimeWarning: Glyph 26126 missing from current font.\n",
      "  font.set_text(s, 0.0, flags=flags)\n",
      "C:\\Users\\meina\\Anaconda3\\lib\\site-packages\\matplotlib\\backends\\backend_agg.py:211: RuntimeWarning: Glyph 24230 missing from current font.\n",
      "  font.set_text(s, 0.0, flags=flags)\n",
      "C:\\Users\\meina\\Anaconda3\\lib\\site-packages\\matplotlib\\backends\\backend_agg.py:180: RuntimeWarning: Glyph 36879 missing from current font.\n",
      "  font.set_text(s, 0, flags=flags)\n",
      "C:\\Users\\meina\\Anaconda3\\lib\\site-packages\\matplotlib\\backends\\backend_agg.py:180: RuntimeWarning: Glyph 26126 missing from current font.\n",
      "  font.set_text(s, 0, flags=flags)\n",
      "C:\\Users\\meina\\Anaconda3\\lib\\site-packages\\matplotlib\\backends\\backend_agg.py:180: RuntimeWarning: Glyph 24230 missing from current font.\n",
      "  font.set_text(s, 0, flags=flags)\n"
     ]
    },
    {
     "data": {
      "image/png": "[encoded data removed]",
      "text/plain": [
       "<Figure size 432x288 with 1 Axes>"
      ]
     },
     "metadata": {
      "needs_background": "light"
     },
     "output_type": "display_data"
    },
    {
     "data": {
      "image/png": "[encoded data removed]",
      "text/plain": [
       "<Figure size 432x288 with 1 Axes>"
      ]
     },
     "metadata": {
      "needs_background": "light"
     },
     "output_type": "display_data"
    },
    {
     "data": {
      "image/png": "[encoded data removed]",
      "text/plain": [
       "<Figure size 432x288 with 1 Axes>"
      ]
     },
     "metadata": {
      "needs_background": "light"
     },
     "output_type": "display_data"
    },
    {
     "data": {
      "image/png": "[encoded data removed]",
      "text/plain": [
       "<Figure size 432x288 with 1 Axes>"
      ]
     },
     "metadata": {
      "needs_background": "light"
     },
     "output_type": "display_data"
    },
    {
     "data": {
      "image/png": "[encoded data removed]",
      "text/plain": [
       "<Figure size 432x288 with 1 Axes>"
      ]
     },
     "metadata": {
      "needs_background": "light"
     },
     "output_type": "display_data"
    }
   ],
   "source": [
    "columns = [\"採水日\",\"気温\",\"水温\",\"透明度\",\"DO\",\"pH\",\"TP\",\"TN\"]\n",
    "for i in columns:\n",
    "    chinai_data.plot.scatter(x=i,y=\"COD\",title=i)"
   ]
  },
  {
   "cell_type": "code",
   "execution_count": 7,
   "metadata": {},
   "outputs": [
    {
     "name": "stdout",
     "output_type": "stream",
     "text": [
      "                            OLS Regression Results                            \n",
      "==============================================================================\n",
      "Dep. Variable:                 クロロフィル   R-squared:                       0.029\n",
      "Model:                            OLS   Adj. R-squared:                  0.023\n",
      "Method:                 Least Squares   F-statistic:                     4.538\n",
      "Date:                Wed, 19 Feb 2020   Prob (F-statistic):             0.0348\n",
      "Time:                        14:35:06   Log-Likelihood:                -389.55\n",
      "No. Observations:                 152   AIC:                             783.1\n",
      "Df Residuals:                     150   BIC:                             789.1\n",
      "Df Model:                           1                                         \n",
      "Covariance Type:            nonrobust                                         \n",
      "==============================================================================\n",
      "                 coef    std err          t      P>|t|      [0.025      0.975]\n",
      "------------------------------------------------------------------------------\n",
      "Intercept      4.4662      0.631      7.073      0.000       3.219       5.714\n",
      "気温            -0.0675      0.032     -2.130      0.035      -0.130      -0.005\n",
      "==============================================================================\n",
      "Omnibus:                      134.228   Durbin-Watson:                   1.006\n",
      "Prob(Omnibus):                  0.000   Jarque-Bera (JB):             1443.397\n",
      "Skew:                           3.309   Prob(JB):                         0.00\n",
      "Kurtosis:                      16.569   Cond. No.                         49.2\n",
      "==============================================================================\n",
      "\n",
      "Warnings:\n",
      "[1] Standard Errors assume that the covariance matrix of the errors is correctly specified.\n"
     ]
    }
   ],
   "source": [
    "気温 = sm.ols(formula=\"クロロフィル~気温\",data=chinai_data).fit()\n",
    "print(気温.summary())"
   ]
  },
  {
   "cell_type": "code",
   "execution_count": 8,
   "metadata": {},
   "outputs": [
    {
     "name": "stdout",
     "output_type": "stream",
     "text": [
      "                            OLS Regression Results                            \n",
      "==============================================================================\n",
      "Dep. Variable:                 クロロフィル   R-squared:                       0.007\n",
      "Model:                            OLS   Adj. R-squared:                  0.000\n",
      "Method:                 Least Squares   F-statistic:                     1.054\n",
      "Date:                Wed, 19 Feb 2020   Prob (F-statistic):              0.306\n",
      "Time:                        14:35:13   Log-Likelihood:                -391.28\n",
      "No. Observations:                 152   AIC:                             786.6\n",
      "Df Residuals:                     150   BIC:                             792.6\n",
      "Df Model:                           1                                         \n",
      "Covariance Type:            nonrobust                                         \n",
      "==============================================================================\n",
      "                 coef    std err          t      P>|t|      [0.025      0.975]\n",
      "------------------------------------------------------------------------------\n",
      "Intercept      3.8515      0.652      5.904      0.000       2.563       5.141\n",
      "水温            -0.0360      0.035     -1.027      0.306      -0.105       0.033\n",
      "==============================================================================\n",
      "Omnibus:                      134.941   Durbin-Watson:                   1.004\n",
      "Prob(Omnibus):                  0.000   Jarque-Bera (JB):             1439.599\n",
      "Skew:                           3.341   Prob(JB):                         0.00\n",
      "Kurtosis:                      16.515   Cond. No.                         47.0\n",
      "==============================================================================\n",
      "\n",
      "Warnings:\n",
      "[1] Standard Errors assume that the covariance matrix of the errors is correctly specified.\n"
     ]
    }
   ],
   "source": [
    "水温 = sm.ols(formula=\"クロロフィル~水温\",data=chinai_data).fit()\n",
    "print(水温.summary())"
   ]
  },
  {
   "cell_type": "code",
   "execution_count": 9,
   "metadata": {},
   "outputs": [
    {
     "name": "stdout",
     "output_type": "stream",
     "text": [
      "                            OLS Regression Results                            \n",
      "==============================================================================\n",
      "Dep. Variable:                 クロロフィル   R-squared:                       0.173\n",
      "Model:                            OLS   Adj. R-squared:                  0.168\n",
      "Method:                 Least Squares   F-statistic:                     31.48\n",
      "Date:                Wed, 19 Feb 2020   Prob (F-statistic):           9.45e-08\n",
      "Time:                        14:35:18   Log-Likelihood:                -377.33\n",
      "No. Observations:                 152   AIC:                             758.7\n",
      "Df Residuals:                     150   BIC:                             764.7\n",
      "Df Model:                           1                                         \n",
      "Covariance Type:            nonrobust                                         \n",
      "==============================================================================\n",
      "                 coef    std err          t      P>|t|      [0.025      0.975]\n",
      "------------------------------------------------------------------------------\n",
      "Intercept      8.4094      0.952      8.836      0.000       6.529      10.290\n",
      "透明度           -0.7594      0.135     -5.611      0.000      -1.027      -0.492\n",
      "==============================================================================\n",
      "Omnibus:                      118.015   Durbin-Watson:                   1.094\n",
      "Prob(Omnibus):                  0.000   Jarque-Bera (JB):             1004.631\n",
      "Skew:                           2.855   Prob(JB):                    7.03e-219\n",
      "Kurtosis:                      14.226   Cond. No.                         28.8\n",
      "==============================================================================\n",
      "\n",
      "Warnings:\n",
      "[1] Standard Errors assume that the covariance matrix of the errors is correctly specified.\n"
     ]
    }
   ],
   "source": [
    "透明度 = sm.ols(formula=\"クロロフィル~透明度\",data=chinai_data).fit()\n",
    "print(透明度.summary())"
   ]
  },
  {
   "cell_type": "code",
   "execution_count": 10,
   "metadata": {},
   "outputs": [
    {
     "name": "stdout",
     "output_type": "stream",
     "text": [
      "                            OLS Regression Results                            \n",
      "==============================================================================\n",
      "Dep. Variable:                 クロロフィル   R-squared:                       0.067\n",
      "Model:                            OLS   Adj. R-squared:                  0.061\n",
      "Method:                 Least Squares   F-statistic:                     10.81\n",
      "Date:                Wed, 19 Feb 2020   Prob (F-statistic):            0.00126\n",
      "Time:                        14:35:44   Log-Likelihood:                -386.53\n",
      "No. Observations:                 152   AIC:                             777.1\n",
      "Df Residuals:                     150   BIC:                             783.1\n",
      "Df Model:                           1                                         \n",
      "Covariance Type:            nonrobust                                         \n",
      "==============================================================================\n",
      "                 coef    std err          t      P>|t|      [0.025      0.975]\n",
      "------------------------------------------------------------------------------\n",
      "Intercept     -4.0551      2.232     -1.816      0.071      -8.466       0.356\n",
      "DO             0.7497      0.228      3.287      0.001       0.299       1.200\n",
      "==============================================================================\n",
      "Omnibus:                      125.770   Durbin-Watson:                   0.967\n",
      "Prob(Omnibus):                  0.000   Jarque-Bera (JB):             1177.960\n",
      "Skew:                           3.077   Prob(JB):                    1.62e-256\n",
      "Kurtosis:                      15.170   Cond. No.                         87.9\n",
      "==============================================================================\n",
      "\n",
      "Warnings:\n",
      "[1] Standard Errors assume that the covariance matrix of the errors is correctly specified.\n"
     ]
    }
   ],
   "source": [
    "DO = sm.ols(formula=\"クロロフィル~DO\",data=chinai_data).fit()\n",
    "print(DO.summary())"
   ]
  },
  {
   "cell_type": "code",
   "execution_count": 11,
   "metadata": {},
   "outputs": [
    {
     "name": "stdout",
     "output_type": "stream",
     "text": [
      "                            OLS Regression Results                            \n",
      "==============================================================================\n",
      "Dep. Variable:                 クロロフィル   R-squared:                       0.000\n",
      "Model:                            OLS   Adj. R-squared:                 -0.007\n",
      "Method:                 Least Squares   F-statistic:                   0.01273\n",
      "Date:                Wed, 19 Feb 2020   Prob (F-statistic):              0.910\n",
      "Time:                        14:35:47   Log-Likelihood:                -391.81\n",
      "No. Observations:                 152   AIC:                             787.6\n",
      "Df Residuals:                     150   BIC:                             793.7\n",
      "Df Model:                           1                                         \n",
      "Covariance Type:            nonrobust                                         \n",
      "==============================================================================\n",
      "                 coef    std err          t      P>|t|      [0.025      0.975]\n",
      "------------------------------------------------------------------------------\n",
      "Intercept      2.7474      4.346      0.632      0.528      -5.840      11.335\n",
      "pH             0.0616      0.546      0.113      0.910      -1.018       1.141\n",
      "==============================================================================\n",
      "Omnibus:                      135.283   Durbin-Watson:                   1.013\n",
      "Prob(Omnibus):                  0.000   Jarque-Bera (JB):             1455.201\n",
      "Skew:                           3.349   Prob(JB):                         0.00\n",
      "Kurtosis:                      16.598   Cond. No.                         135.\n",
      "==============================================================================\n",
      "\n",
      "Warnings:\n",
      "[1] Standard Errors assume that the covariance matrix of the errors is correctly specified.\n"
     ]
    }
   ],
   "source": [
    "pH = sm.ols(formula=\"クロロフィル~pH\",data=chinai_data).fit()\n",
    "print(pH.summary())"
   ]
  },
  {
   "cell_type": "code",
   "execution_count": 12,
   "metadata": {},
   "outputs": [
    {
     "name": "stdout",
     "output_type": "stream",
     "text": [
      "                            OLS Regression Results                            \n",
      "==============================================================================\n",
      "Dep. Variable:                 クロロフィル   R-squared:                       0.086\n",
      "Model:                            OLS   Adj. R-squared:                  0.080\n",
      "Method:                 Least Squares   F-statistic:                     14.19\n",
      "Date:                Wed, 19 Feb 2020   Prob (F-statistic):           0.000237\n",
      "Time:                        14:35:51   Log-Likelihood:                -384.95\n",
      "No. Observations:                 152   AIC:                             773.9\n",
      "Df Residuals:                     150   BIC:                             779.9\n",
      "Df Model:                           1                                         \n",
      "Covariance Type:            nonrobust                                         \n",
      "==============================================================================\n",
      "                 coef    std err          t      P>|t|      [0.025      0.975]\n",
      "------------------------------------------------------------------------------\n",
      "Intercept     -2.3853      1.513     -1.576      0.117      -5.375       0.605\n",
      "COD            2.3984      0.637      3.766      0.000       1.140       3.657\n",
      "==============================================================================\n",
      "Omnibus:                      126.617   Durbin-Watson:                   0.807\n",
      "Prob(Omnibus):                  0.000   Jarque-Bera (JB):             1205.986\n",
      "Skew:                           3.098   Prob(JB):                    1.33e-262\n",
      "Kurtosis:                      15.330   Cond. No.                         17.0\n",
      "==============================================================================\n",
      "\n",
      "Warnings:\n",
      "[1] Standard Errors assume that the covariance matrix of the errors is correctly specified.\n"
     ]
    }
   ],
   "source": [
    "COD = sm.ols(formula=\"クロロフィル~COD\",data=chinai_data).fit()\n",
    "print(COD.summary())"
   ]
  },
  {
   "cell_type": "code",
   "execution_count": 13,
   "metadata": {},
   "outputs": [
    {
     "name": "stdout",
     "output_type": "stream",
     "text": [
      "                            OLS Regression Results                            \n",
      "==============================================================================\n",
      "Dep. Variable:                 クロロフィル   R-squared:                       0.198\n",
      "Model:                            OLS   Adj. R-squared:                  0.192\n",
      "Method:                 Least Squares   F-statistic:                     36.94\n",
      "Date:                Wed, 19 Feb 2020   Prob (F-statistic):           9.61e-09\n",
      "Time:                        14:35:55   Log-Likelihood:                -375.08\n",
      "No. Observations:                 152   AIC:                             754.2\n",
      "Df Residuals:                     150   BIC:                             760.2\n",
      "Df Model:                           1                                         \n",
      "Covariance Type:            nonrobust                                         \n",
      "==============================================================================\n",
      "                 coef    std err          t      P>|t|      [0.025      0.975]\n",
      "------------------------------------------------------------------------------\n",
      "Intercept     -0.9111      0.721     -1.263      0.208      -2.336       0.514\n",
      "TP           563.9358     92.779      6.078      0.000     380.612     747.259\n",
      "==============================================================================\n",
      "Omnibus:                      113.166   Durbin-Watson:                   1.155\n",
      "Prob(Omnibus):                  0.000   Jarque-Bera (JB):              886.957\n",
      "Skew:                           2.732   Prob(JB):                    2.51e-193\n",
      "Kurtosis:                      13.497   Cond. No.                         398.\n",
      "==============================================================================\n",
      "\n",
      "Warnings:\n",
      "[1] Standard Errors assume that the covariance matrix of the errors is correctly specified.\n"
     ]
    }
   ],
   "source": [
    "TP = sm.ols(formula=\"クロロフィル~TP\",data=chinai_data).fit()\n",
    "print(TP.summary())"
   ]
  },
  {
   "cell_type": "code",
   "execution_count": 14,
   "metadata": {},
   "outputs": [
    {
     "name": "stdout",
     "output_type": "stream",
     "text": [
      "                            OLS Regression Results                            \n",
      "==============================================================================\n",
      "Dep. Variable:                 クロロフィル   R-squared:                       0.000\n",
      "Model:                            OLS   Adj. R-squared:                 -0.007\n",
      "Method:                 Least Squares   F-statistic:                   0.01816\n",
      "Date:                Wed, 19 Feb 2020   Prob (F-statistic):              0.893\n",
      "Time:                        14:35:58   Log-Likelihood:                -391.81\n",
      "No. Observations:                 152   AIC:                             787.6\n",
      "Df Residuals:                     150   BIC:                             793.7\n",
      "Df Model:                           1                                         \n",
      "Covariance Type:            nonrobust                                         \n",
      "==============================================================================\n",
      "                 coef    std err          t      P>|t|      [0.025      0.975]\n",
      "------------------------------------------------------------------------------\n",
      "Intercept      3.1059      1.006      3.088      0.002       1.119       5.093\n",
      "TN             0.5541      4.112      0.135      0.893      -7.572       8.680\n",
      "==============================================================================\n",
      "Omnibus:                      135.065   Durbin-Watson:                   1.013\n",
      "Prob(Omnibus):                  0.000   Jarque-Bera (JB):             1442.646\n",
      "Skew:                           3.345   Prob(JB):                         0.00\n",
      "Kurtosis:                      16.529   Cond. No.                         16.7\n",
      "==============================================================================\n",
      "\n",
      "Warnings:\n",
      "[1] Standard Errors assume that the covariance matrix of the errors is correctly specified.\n"
     ]
    }
   ],
   "source": [
    "TN = sm.ols(formula=\"クロロフィル~TN\",data=chinai_data).fit()\n",
    "print(TN.summary())"
   ]
  },
  {
   "cell_type": "code",
   "execution_count": null,
   "metadata": {},
   "outputs": [],
   "source": []
  }
 ],
 "metadata": {
  "kernelspec": {
   "display_name": "Python 3",
   "language": "python",
   "name": "python3"
  },
  "language_info": {
   "codemirror_mode": {
    "name": "ipython",
    "version": 3
   },
   "file_extension": ".py",
   "mimetype": "text/x-python",
   "name": "python",
   "nbconvert_exporter": "python",
   "pygments_lexer": "ipython3",
   "version": "3.7.4"
  }
 },
 "nbformat": 4,
 "nbformat_minor": 4
}
