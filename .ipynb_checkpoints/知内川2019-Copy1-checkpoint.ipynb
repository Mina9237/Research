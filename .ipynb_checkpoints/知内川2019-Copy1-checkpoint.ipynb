{
 "cells": [
  {
   "cell_type": "code",
   "execution_count": 1,
   "metadata": {},
   "outputs": [
    {
     "name": "stdout",
     "output_type": "stream",
     "text": [
      "<class 'pandas.core.frame.DataFrame'>\n",
      "RangeIndex: 8 entries, 0 to 7\n",
      "Data columns (total 10 columns):\n",
      " #   Column  Non-Null Count  Dtype         \n",
      "---  ------  --------------  -----         \n",
      " 0   採水日     8 non-null      datetime64[ns]\n",
      " 1   クロロフィル  8 non-null      float64       \n",
      " 2   気温      8 non-null      float64       \n",
      " 3   水温      8 non-null      float64       \n",
      " 4   透明度     8 non-null      float64       \n",
      " 5   DO      8 non-null      float64       \n",
      " 6   pH      8 non-null      float64       \n",
      " 7   COD     8 non-null      float64       \n",
      " 8   TP      8 non-null      float64       \n",
      " 9   TN      8 non-null      float64       \n",
      "dtypes: datetime64[ns](1), float64(9)\n",
      "memory usage: 768.0 bytes\n"
     ]
    }
   ],
   "source": [
    "import pandas as pd\n",
    "import numpy as np\n",
    "import statsmodels.formula.api as sm #回帰分析\n",
    "import seaborn#散布図に回帰直性ひく\n",
    "chinai_data = pd.read_excel(\"知内川.xlsx\")\n",
    "chinai_data.head()\n",
    "chinai_data.info()"
   ]
  },
  {
   "cell_type": "code",
   "execution_count": 2,
   "metadata": {},
   "outputs": [
    {
     "data": {
      "text/plain": [
       "<matplotlib.axes._subplots.AxesSubplot at 0x1c7f8562708>"
      ]
     },
     "execution_count": 2,
     "metadata": {},
     "output_type": "execute_result"
    },
    {
     "name": "stderr",
     "output_type": "stream",
     "text": [
      "C:\\Users\\meina\\Anaconda3\\lib\\site-packages\\matplotlib\\backends\\backend_agg.py:211: RuntimeWarning: Glyph 25505 missing from current font.\n",
      "  font.set_text(s, 0.0, flags=flags)\n",
      "C:\\Users\\meina\\Anaconda3\\lib\\site-packages\\matplotlib\\backends\\backend_agg.py:211: RuntimeWarning: Glyph 27700 missing from current font.\n",
      "  font.set_text(s, 0.0, flags=flags)\n",
      "C:\\Users\\meina\\Anaconda3\\lib\\site-packages\\matplotlib\\backends\\backend_agg.py:211: RuntimeWarning: Glyph 26085 missing from current font.\n",
      "  font.set_text(s, 0.0, flags=flags)\n",
      "C:\\Users\\meina\\Anaconda3\\lib\\site-packages\\matplotlib\\backends\\backend_agg.py:180: RuntimeWarning: Glyph 25505 missing from current font.\n",
      "  font.set_text(s, 0, flags=flags)\n",
      "C:\\Users\\meina\\Anaconda3\\lib\\site-packages\\matplotlib\\backends\\backend_agg.py:180: RuntimeWarning: Glyph 27700 missing from current font.\n",
      "  font.set_text(s, 0, flags=flags)\n",
      "C:\\Users\\meina\\Anaconda3\\lib\\site-packages\\matplotlib\\backends\\backend_agg.py:180: RuntimeWarning: Glyph 26085 missing from current font.\n",
      "  font.set_text(s, 0, flags=flags)\n",
      "C:\\Users\\meina\\Anaconda3\\lib\\site-packages\\matplotlib\\backends\\backend_agg.py:211: RuntimeWarning: Glyph 12463 missing from current font.\n",
      "  font.set_text(s, 0.0, flags=flags)\n",
      "C:\\Users\\meina\\Anaconda3\\lib\\site-packages\\matplotlib\\backends\\backend_agg.py:211: RuntimeWarning: Glyph 12525 missing from current font.\n",
      "  font.set_text(s, 0.0, flags=flags)\n",
      "C:\\Users\\meina\\Anaconda3\\lib\\site-packages\\matplotlib\\backends\\backend_agg.py:211: RuntimeWarning: Glyph 12501 missing from current font.\n",
      "  font.set_text(s, 0.0, flags=flags)\n",
      "C:\\Users\\meina\\Anaconda3\\lib\\site-packages\\matplotlib\\backends\\backend_agg.py:211: RuntimeWarning: Glyph 12451 missing from current font.\n",
      "  font.set_text(s, 0.0, flags=flags)\n",
      "C:\\Users\\meina\\Anaconda3\\lib\\site-packages\\matplotlib\\backends\\backend_agg.py:211: RuntimeWarning: Glyph 12523 missing from current font.\n",
      "  font.set_text(s, 0.0, flags=flags)\n",
      "C:\\Users\\meina\\Anaconda3\\lib\\site-packages\\matplotlib\\backends\\backend_agg.py:180: RuntimeWarning: Glyph 12463 missing from current font.\n",
      "  font.set_text(s, 0, flags=flags)\n",
      "C:\\Users\\meina\\Anaconda3\\lib\\site-packages\\matplotlib\\backends\\backend_agg.py:180: RuntimeWarning: Glyph 12525 missing from current font.\n",
      "  font.set_text(s, 0, flags=flags)\n",
      "C:\\Users\\meina\\Anaconda3\\lib\\site-packages\\matplotlib\\backends\\backend_agg.py:180: RuntimeWarning: Glyph 12501 missing from current font.\n",
      "  font.set_text(s, 0, flags=flags)\n",
      "C:\\Users\\meina\\Anaconda3\\lib\\site-packages\\matplotlib\\backends\\backend_agg.py:180: RuntimeWarning: Glyph 12451 missing from current font.\n",
      "  font.set_text(s, 0, flags=flags)\n",
      "C:\\Users\\meina\\Anaconda3\\lib\\site-packages\\matplotlib\\backends\\backend_agg.py:180: RuntimeWarning: Glyph 12523 missing from current font.\n",
      "  font.set_text(s, 0, flags=flags)\n"
     ]
    },
    {
     "data": {
      "image/png": "[encoded data removed]",
      "text/plain": [
       "<Figure size 432x288 with 1 Axes>"
      ]
     },
     "metadata": {
      "needs_background": "light"
     },
     "output_type": "display_data"
    }
   ],
   "source": [
    "chinai_data.plot.scatter(x=\"採水日\",y=\"クロロフィル\",title=\"採水日\")"
   ]
  },
  {
   "cell_type": "code",
   "execution_count": 3,
   "metadata": {},
   "outputs": [
    {
     "name": "stdout",
     "output_type": "stream",
     "text": [
      "                            OLS Regression Results                            \n",
      "==============================================================================\n",
      "Dep. Variable:                 クロロフィル   R-squared:                       1.000\n",
      "Model:                            OLS   Adj. R-squared:                    nan\n",
      "Method:                 Least Squares   F-statistic:                       nan\n",
      "Date:                Wed, 19 Feb 2020   Prob (F-statistic):                nan\n",
      "Time:                        11:19:48   Log-Likelihood:                 262.22\n",
      "No. Observations:                   8   AIC:                            -508.4\n",
      "Df Residuals:                       0   BIC:                            -507.8\n",
      "Df Model:                           7                                         \n",
      "Covariance Type:            nonrobust                                         \n",
      "===========================================================================================================\n",
      "                                              coef    std err          t      P>|t|      [0.025      0.975]\n",
      "-----------------------------------------------------------------------------------------------------------\n",
      "Intercept                                   4.8000        inf          0        nan         nan         nan\n",
      "採水日[T.Timestamp('2019-02-05 00:00:00')]    -0.9000        inf         -0        nan         nan         nan\n",
      "採水日[T.Timestamp('2019-03-05 00:00:00')]    -2.9000        inf         -0        nan         nan         nan\n",
      "採水日[T.Timestamp('2019-04-02 00:00:00')]    -1.6000        inf         -0        nan         nan         nan\n",
      "採水日[T.Timestamp('2019-05-08 00:00:00')]    -3.1000        inf         -0        nan         nan         nan\n",
      "採水日[T.Timestamp('2019-06-05 00:00:00')]    -2.8000        inf         -0        nan         nan         nan\n",
      "採水日[T.Timestamp('2019-07-02 00:00:00')]    -2.9000        inf         -0        nan         nan         nan\n",
      "採水日[T.Timestamp('2019-08-05 00:00:00')]    -3.5000        inf         -0        nan         nan         nan\n",
      "==============================================================================\n",
      "Omnibus:                        1.056   Durbin-Watson:                   0.829\n",
      "Prob(Omnibus):                  0.590   Jarque-Bera (JB):                0.763\n",
      "Skew:                           0.592   Prob(JB):                        0.683\n",
      "Kurtosis:                       2.059   Cond. No.                         8.89\n",
      "==============================================================================\n",
      "\n",
      "Warnings:\n",
      "[1] Standard Errors assume that the covariance matrix of the errors is correctly specified.\n"
     ]
    },
    {
     "name": "stderr",
     "output_type": "stream",
     "text": [
      "C:\\Users\\meina\\Anaconda3\\lib\\site-packages\\scipy\\stats\\stats.py:1535: UserWarning: kurtosistest only valid for n>=20 ... continuing anyway, n=8\n",
      "  \"anyway, n=%i\" % int(n))\n",
      "C:\\Users\\meina\\Anaconda3\\lib\\site-packages\\statsmodels\\regression\\linear_model.py:1698: RuntimeWarning: divide by zero encountered in true_divide\n",
      "  return 1 - (np.divide(self.nobs - self.k_constant, self.df_resid)\n",
      "C:\\Users\\meina\\Anaconda3\\lib\\site-packages\\statsmodels\\regression\\linear_model.py:1699: RuntimeWarning: invalid value encountered in double_scalars\n",
      "  * (1 - self.rsquared))\n",
      "C:\\Users\\meina\\Anaconda3\\lib\\site-packages\\scipy\\stats\\_distn_infrastructure.py:903: RuntimeWarning: invalid value encountered in greater\n",
      "  return (a < x) & (x < b)\n",
      "C:\\Users\\meina\\Anaconda3\\lib\\site-packages\\scipy\\stats\\_distn_infrastructure.py:903: RuntimeWarning: invalid value encountered in less\n",
      "  return (a < x) & (x < b)\n",
      "C:\\Users\\meina\\Anaconda3\\lib\\site-packages\\scipy\\stats\\_distn_infrastructure.py:1912: RuntimeWarning: invalid value encountered in less_equal\n",
      "  cond2 = cond0 & (x <= _a)\n",
      "C:\\Users\\meina\\Anaconda3\\lib\\site-packages\\statsmodels\\regression\\linear_model.py:1620: RuntimeWarning: divide by zero encountered in double_scalars\n",
      "  return np.dot(wresid, wresid) / self.df_resid\n"
     ]
    }
   ],
   "source": [
    "採水日 = sm.ols(formula=\"クロロフィル~採水日\",data=chinai_data).fit()\n",
    "print(採水日.summary())"
   ]
  },
  {
   "cell_type": "code",
   "execution_count": 63,
   "metadata": {},
   "outputs": [
    {
     "data": {
      "image/png": "[encoded data removed]",
      "text/plain": [
       "<Figure size 432x288 with 1 Axes>"
      ]
     },
     "metadata": {
      "needs_background": "light"
     },
     "output_type": "display_data"
    },
    {
     "data": {
      "image/png": "[encoded data removed]",
      "text/plain": [
       "<Figure size 432x288 with 1 Axes>"
      ]
     },
     "metadata": {
      "needs_background": "light"
     },
     "output_type": "display_data"
    },
    {
     "data": {
      "image/png": "[encoded data removed]",
      "text/plain": [
       "<Figure size 432x288 with 1 Axes>"
      ]
     },
     "metadata": {
      "needs_background": "light"
     },
     "output_type": "display_data"
    },
    {
     "data": {
      "image/png": "[encoded data removed]",
      "text/plain": [
       "<Figure size 432x288 with 1 Axes>"
      ]
     },
     "metadata": {
      "needs_background": "light"
     },
     "output_type": "display_data"
    },
    {
     "data": {
      "image/png": "[encoded data removed]",
      "text/plain": [
       "<Figure size 432x288 with 1 Axes>"
      ]
     },
     "metadata": {
      "needs_background": "light"
     },
     "output_type": "display_data"
    },
    {
     "data": {
      "image/png": "[encoded data removed]",
      "text/plain": [
       "<Figure size 432x288 with 1 Axes>"
      ]
     },
     "metadata": {
      "needs_background": "light"
     },
     "output_type": "display_data"
    },
    {
     "data": {
      "image/png": "[encoded data removed]",
      "text/plain": [
       "<Figure size 432x288 with 1 Axes>"
      ]
     },
     "metadata": {
      "needs_background": "light"
     },
     "output_type": "display_data"
    },
    {
     "data": {
      "image/png": "[encoded data removed]",
      "text/plain": [
       "<Figure size 432x288 with 1 Axes>"
      ]
     },
     "metadata": {
      "needs_background": "light"
     },
     "output_type": "display_data"
    }
   ],
   "source": [
    "columns = [\"気温\",\"水温\",\"透明度\",\"DO\",\"pH\",\"COD\",\"TP\",\"TN\"]\n",
    "for i in columns:\n",
    "    chinai_data.plot.scatter(x=i,y=\"クロロフィル\",title=i)"
   ]
  },
  {
   "cell_type": "code",
   "execution_count": 64,
   "metadata": {},
   "outputs": [
    {
     "data": {
      "text/plain": [
       "['気温', '水温', '透明度', 'DO', 'pH', 'COD', 'TP', 'TN']"
      ]
     },
     "execution_count": 64,
     "metadata": {},
     "output_type": "execute_result"
    }
   ],
   "source": [
    "columns"
   ]
  },
  {
   "cell_type": "code",
   "execution_count": 65,
   "metadata": {},
   "outputs": [
    {
     "name": "stdout",
     "output_type": "stream",
     "text": [
      "                            OLS Regression Results                            \n",
      "==============================================================================\n",
      "Dep. Variable:                 クロロフィル   R-squared:                       0.530\n",
      "Model:                            OLS   Adj. R-squared:                  0.451\n",
      "Method:                 Least Squares   F-statistic:                     6.762\n",
      "Date:                Sat, 15 Feb 2020   Prob (F-statistic):             0.0406\n",
      "Time:                        17:45:04   Log-Likelihood:                -9.5067\n",
      "No. Observations:                   8   AIC:                             23.01\n",
      "Df Residuals:                       6   BIC:                             23.17\n",
      "Df Model:                           1                                         \n",
      "Covariance Type:            nonrobust                                         \n",
      "==============================================================================\n",
      "                 coef    std err          t      P>|t|      [0.025      0.975]\n",
      "------------------------------------------------------------------------------\n",
      "Intercept      4.1953      0.698      6.009      0.001       2.487       5.904\n",
      "気温            -0.0963      0.037     -2.600      0.041      -0.187      -0.006\n",
      "==============================================================================\n",
      "Omnibus:                        0.207   Durbin-Watson:                   1.403\n",
      "Prob(Omnibus):                  0.902   Jarque-Bera (JB):                0.090\n",
      "Skew:                           0.090   Prob(JB):                        0.956\n",
      "Kurtosis:                       2.514   Cond. No.                         40.7\n",
      "==============================================================================\n",
      "\n",
      "Warnings:\n",
      "[1] Standard Errors assume that the covariance matrix of the errors is correctly specified.\n"
     ]
    }
   ],
   "source": [
    "気温 = sm.ols(formula=\"クロロフィル~気温\",data=chinai_data).fit()\n",
    "print(気温.summary())"
   ]
  },
  {
   "cell_type": "code",
   "execution_count": 66,
   "metadata": {},
   "outputs": [
    {
     "name": "stdout",
     "output_type": "stream",
     "text": [
      "                            OLS Regression Results                            \n",
      "==============================================================================\n",
      "Dep. Variable:                 クロロフィル   R-squared:                       0.393\n",
      "Model:                            OLS   Adj. R-squared:                  0.291\n",
      "Method:                 Least Squares   F-statistic:                     3.880\n",
      "Date:                Sat, 15 Feb 2020   Prob (F-statistic):             0.0964\n",
      "Time:                        17:45:05   Log-Likelihood:                -10.530\n",
      "No. Observations:                   8   AIC:                             25.06\n",
      "Df Residuals:                       6   BIC:                             25.22\n",
      "Df Model:                           1                                         \n",
      "Covariance Type:            nonrobust                                         \n",
      "==============================================================================\n",
      "                 coef    std err          t      P>|t|      [0.025      0.975]\n",
      "------------------------------------------------------------------------------\n",
      "Intercept      4.0488      0.828      4.888      0.003       2.022       6.076\n",
      "水温            -0.0915      0.046     -1.970      0.096      -0.205       0.022\n",
      "==============================================================================\n",
      "Omnibus:                        0.435   Durbin-Watson:                   1.463\n",
      "Prob(Omnibus):                  0.804   Jarque-Bera (JB):                0.139\n",
      "Skew:                           0.245   Prob(JB):                        0.933\n",
      "Kurtosis:                       2.578   Cond. No.                         40.2\n",
      "==============================================================================\n",
      "\n",
      "Warnings:\n",
      "[1] Standard Errors assume that the covariance matrix of the errors is correctly specified.\n"
     ]
    }
   ],
   "source": [
    "水温 = sm.ols(formula=\"クロロフィル~水温\",data=chinai_data).fit()\n",
    "print(水温.summary())"
   ]
  },
  {
   "cell_type": "code",
   "execution_count": 67,
   "metadata": {},
   "outputs": [
    {
     "name": "stdout",
     "output_type": "stream",
     "text": [
      "                            OLS Regression Results                            \n",
      "==============================================================================\n",
      "Dep. Variable:                 クロロフィル   R-squared:                       0.004\n",
      "Model:                            OLS   Adj. R-squared:                 -0.162\n",
      "Method:                 Least Squares   F-statistic:                   0.02236\n",
      "Date:                Sat, 15 Feb 2020   Prob (F-statistic):              0.886\n",
      "Time:                        17:45:05   Log-Likelihood:                -12.511\n",
      "No. Observations:                   8   AIC:                             29.02\n",
      "Df Residuals:                       6   BIC:                             29.18\n",
      "Df Model:                           1                                         \n",
      "Covariance Type:            nonrobust                                         \n",
      "==============================================================================\n",
      "                 coef    std err          t      P>|t|      [0.025      0.975]\n",
      "------------------------------------------------------------------------------\n",
      "Intercept      2.1537      2.939      0.733      0.491      -5.038       9.346\n",
      "透明度            0.0507      0.339      0.150      0.886      -0.778       0.880\n",
      "==============================================================================\n",
      "Omnibus:                        1.745   Durbin-Watson:                   0.948\n",
      "Prob(Omnibus):                  0.418   Jarque-Bera (JB):                1.077\n",
      "Skew:                           0.786   Prob(JB):                        0.584\n",
      "Kurtosis:                       2.130   Cond. No.                         54.7\n",
      "==============================================================================\n",
      "\n",
      "Warnings:\n",
      "[1] Standard Errors assume that the covariance matrix of the errors is correctly specified.\n"
     ]
    }
   ],
   "source": [
    "透明度 = sm.ols(formula=\"クロロフィル~透明度\",data=chinai_data).fit()\n",
    "print(透明度.summary())"
   ]
  },
  {
   "cell_type": "code",
   "execution_count": 68,
   "metadata": {},
   "outputs": [
    {
     "name": "stdout",
     "output_type": "stream",
     "text": [
      "                            OLS Regression Results                            \n",
      "==============================================================================\n",
      "Dep. Variable:                 クロロフィル   R-squared:                       0.162\n",
      "Model:                            OLS   Adj. R-squared:                  0.023\n",
      "Method:                 Least Squares   F-statistic:                     1.164\n",
      "Date:                Sat, 15 Feb 2020   Prob (F-statistic):              0.322\n",
      "Time:                        17:45:06   Log-Likelihood:                -11.816\n",
      "No. Observations:                   8   AIC:                             27.63\n",
      "Df Residuals:                       6   BIC:                             27.79\n",
      "Df Model:                           1                                         \n",
      "Covariance Type:            nonrobust                                         \n",
      "==============================================================================\n",
      "                 coef    std err          t      P>|t|      [0.025      0.975]\n",
      "------------------------------------------------------------------------------\n",
      "Intercept     -1.8721      4.156     -0.450      0.668     -12.041       8.297\n",
      "DO             0.4383      0.406      1.079      0.322      -0.556       1.432\n",
      "==============================================================================\n",
      "Omnibus:                        1.651   Durbin-Watson:                   1.122\n",
      "Prob(Omnibus):                  0.438   Jarque-Bera (JB):                0.812\n",
      "Skew:                           0.735   Prob(JB):                        0.666\n",
      "Kurtosis:                       2.475   Cond. No.                         99.2\n",
      "==============================================================================\n",
      "\n",
      "Warnings:\n",
      "[1] Standard Errors assume that the covariance matrix of the errors is correctly specified.\n"
     ]
    }
   ],
   "source": [
    "DO = sm.ols(formula=\"クロロフィル~DO\",data=chinai_data).fit()\n",
    "print(DO.summary())"
   ]
  },
  {
   "cell_type": "code",
   "execution_count": 69,
   "metadata": {},
   "outputs": [
    {
     "name": "stdout",
     "output_type": "stream",
     "text": [
      "                            OLS Regression Results                            \n",
      "==============================================================================\n",
      "Dep. Variable:                 クロロフィル   R-squared:                       0.321\n",
      "Model:                            OLS   Adj. R-squared:                  0.207\n",
      "Method:                 Least Squares   F-statistic:                     2.832\n",
      "Date:                Sat, 15 Feb 2020   Prob (F-statistic):              0.143\n",
      "Time:                        17:45:06   Log-Likelihood:                -10.979\n",
      "No. Observations:                   8   AIC:                             25.96\n",
      "Df Residuals:                       6   BIC:                             26.12\n",
      "Df Model:                           1                                         \n",
      "Covariance Type:            nonrobust                                         \n",
      "==============================================================================\n",
      "                 coef    std err          t      P>|t|      [0.025      0.975]\n",
      "------------------------------------------------------------------------------\n",
      "Intercept     18.1875      9.279      1.960      0.098      -4.516      40.891\n",
      "pH            -2.0000      1.189     -1.683      0.143      -4.908       0.908\n",
      "==============================================================================\n",
      "Omnibus:                        0.643   Durbin-Watson:                   1.620\n",
      "Prob(Omnibus):                  0.725   Jarque-Bera (JB):                0.532\n",
      "Skew:                           0.225   Prob(JB):                        0.767\n",
      "Kurtosis:                       1.820   Cond. No.                         189.\n",
      "==============================================================================\n",
      "\n",
      "Warnings:\n",
      "[1] Standard Errors assume that the covariance matrix of the errors is correctly specified.\n"
     ]
    }
   ],
   "source": [
    "pH = sm.ols(formula=\"クロロフィル~pH\",data=chinai_data).fit()\n",
    "print(pH.summary())"
   ]
  },
  {
   "cell_type": "code",
   "execution_count": 70,
   "metadata": {},
   "outputs": [
    {
     "name": "stdout",
     "output_type": "stream",
     "text": [
      "                            OLS Regression Results                            \n",
      "==============================================================================\n",
      "Dep. Variable:                 クロロフィル   R-squared:                       0.119\n",
      "Model:                            OLS   Adj. R-squared:                 -0.027\n",
      "Method:                 Least Squares   F-statistic:                    0.8142\n",
      "Date:                Sat, 15 Feb 2020   Prob (F-statistic):              0.402\n",
      "Time:                        17:45:07   Log-Likelihood:                -12.016\n",
      "No. Observations:                   8   AIC:                             28.03\n",
      "Df Residuals:                       6   BIC:                             28.19\n",
      "Df Model:                           1                                         \n",
      "Covariance Type:            nonrobust                                         \n",
      "==============================================================================\n",
      "                 coef    std err          t      P>|t|      [0.025      0.975]\n",
      "------------------------------------------------------------------------------\n",
      "Intercept      5.3659      3.111      1.725      0.135      -2.246      12.978\n",
      "COD           -1.2998      1.441     -0.902      0.402      -4.825       2.225\n",
      "==============================================================================\n",
      "Omnibus:                        0.686   Durbin-Watson:                   1.509\n",
      "Prob(Omnibus):                  0.710   Jarque-Bera (JB):                0.568\n",
      "Skew:                           0.485   Prob(JB):                        0.753\n",
      "Kurtosis:                       2.127   Cond. No.                         18.3\n",
      "==============================================================================\n",
      "\n",
      "Warnings:\n",
      "[1] Standard Errors assume that the covariance matrix of the errors is correctly specified.\n"
     ]
    }
   ],
   "source": [
    "COD = sm.ols(formula=\"クロロフィル~COD\",data=chinai_data).fit()\n",
    "print(COD.summary())"
   ]
  },
  {
   "cell_type": "code",
   "execution_count": 71,
   "metadata": {},
   "outputs": [
    {
     "name": "stdout",
     "output_type": "stream",
     "text": [
      "                            OLS Regression Results                            \n",
      "==============================================================================\n",
      "Dep. Variable:                 クロロフィル   R-squared:                       0.171\n",
      "Model:                            OLS   Adj. R-squared:                  0.032\n",
      "Method:                 Least Squares   F-statistic:                     1.235\n",
      "Date:                Sat, 15 Feb 2020   Prob (F-statistic):              0.309\n",
      "Time:                        17:45:07   Log-Likelihood:                -11.777\n",
      "No. Observations:                   8   AIC:                             27.55\n",
      "Df Residuals:                       6   BIC:                             27.71\n",
      "Df Model:                           1                                         \n",
      "Covariance Type:            nonrobust                                         \n",
      "==============================================================================\n",
      "                 coef    std err          t      P>|t|      [0.025      0.975]\n",
      "------------------------------------------------------------------------------\n",
      "Intercept      0.5192      1.911      0.272      0.795      -4.156       5.194\n",
      "TP           306.4103    275.773      1.111      0.309    -368.382     981.203\n",
      "==============================================================================\n",
      "Omnibus:                        1.938   Durbin-Watson:                   0.961\n",
      "Prob(Omnibus):                  0.379   Jarque-Bera (JB):                0.966\n",
      "Skew:                           0.807   Prob(JB):                        0.617\n",
      "Kurtosis:                       2.458   Cond. No.                         641.\n",
      "==============================================================================\n",
      "\n",
      "Warnings:\n",
      "[1] Standard Errors assume that the covariance matrix of the errors is correctly specified.\n"
     ]
    }
   ],
   "source": [
    "TP = sm.ols(formula=\"クロロフィル~TP\",data=chinai_data).fit()\n",
    "print(TP.summary())"
   ]
  },
  {
   "cell_type": "code",
   "execution_count": 73,
   "metadata": {},
   "outputs": [
    {
     "name": "stdout",
     "output_type": "stream",
     "text": [
      "                            OLS Regression Results                            \n",
      "==============================================================================\n",
      "Dep. Variable:                 クロロフィル   R-squared:                       0.230\n",
      "Model:                            OLS   Adj. R-squared:                  0.101\n",
      "Method:                 Least Squares   F-statistic:                     1.787\n",
      "Date:                Sat, 15 Feb 2020   Prob (F-statistic):              0.230\n",
      "Time:                        17:45:13   Log-Likelihood:                -11.483\n",
      "No. Observations:                   8   AIC:                             26.97\n",
      "Df Residuals:                       6   BIC:                             27.12\n",
      "Df Model:                           1                                         \n",
      "Covariance Type:            nonrobust                                         \n",
      "==============================================================================\n",
      "                 coef    std err          t      P>|t|      [0.025      0.975]\n",
      "------------------------------------------------------------------------------\n",
      "Intercept     -0.2644      2.173     -0.122      0.907      -5.582       5.053\n",
      "TN            13.0371      9.752      1.337      0.230     -10.825      36.899\n",
      "==============================================================================\n",
      "Omnibus:                        3.654   Durbin-Watson:                   1.354\n",
      "Prob(Omnibus):                  0.161   Jarque-Bera (JB):                1.023\n",
      "Skew:                           0.869   Prob(JB):                        0.600\n",
      "Kurtosis:                       3.214   Cond. No.                         24.6\n",
      "==============================================================================\n",
      "\n",
      "Warnings:\n",
      "[1] Standard Errors assume that the covariance matrix of the errors is correctly specified.\n"
     ]
    }
   ],
   "source": [
    "TN = sm.ols(formula=\"クロロフィル~TN\",data=chinai_data).fit()\n",
    "print(TN.summary())"
   ]
  },
  {
   "cell_type": "code",
   "execution_count": 22,
   "metadata": {},
   "outputs": [
    {
     "name": "stderr",
     "output_type": "stream",
     "text": [
      "C:\\Users\\meina\\Anaconda3\\lib\\site-packages\\ipykernel_launcher.py:4: FutureWarning: Method .as_matrix will be removed in a future version. Use .values instead.\n",
      "  after removing the cwd from sys.path.\n",
      "C:\\Users\\meina\\Anaconda3\\lib\\site-packages\\ipykernel_launcher.py:5: FutureWarning: Method .as_matrix will be removed in a future version. Use .values instead.\n",
      "  \"\"\"\n"
     ]
    },
    {
     "data": {
      "text/plain": [
       "LinearRegression(copy_X=True, fit_intercept=True, n_jobs=None, normalize=False)"
      ]
     },
     "execution_count": 22,
     "metadata": {},
     "output_type": "execute_result"
    }
   ],
   "source": [
    "from sklearn import linear_model\n",
    "clf = linear_model.LinearRegression()\n",
    "hensu = chinai_data.drop([\"採水日\",\"クロロフィル\"],axis=1)\n",
    "X = hensu.as_matrix()\n",
    "Y=chinai_data[\"クロロフィル\"].as_matrix()\n",
    "clf.fit(X,Y)"
   ]
  },
  {
   "cell_type": "code",
   "execution_count": null,
   "metadata": {},
   "outputs": [],
   "source": []
  },
  {
   "cell_type": "code",
   "execution_count": 14,
   "metadata": {},
   "outputs": [
    {
     "name": "stdout",
     "output_type": "stream",
     "text": [
      "LinearRegression(copy_X=True, fit_intercept=True, n_jobs=None, normalize=False)\n"
     ]
    }
   ],
   "source": [
    "print(clf.fit(X,Y))"
   ]
  },
  {
   "cell_type": "code",
   "execution_count": 18,
   "metadata": {},
   "outputs": [
    {
     "name": "stdout",
     "output_type": "stream",
     "text": [
      "  Name  Coefficients\n",
      "7  Ｔ－Ｎ    -54.931267\n",
      "4   ｐＨ    -10.437434\n",
      "3   DO     -2.867522\n",
      "1   水温     -2.389978\n",
      "2  透明度     -1.208476\n",
      "6  T-P      0.184122\n",
      "0   気温      1.439792\n",
      "5  ＣＯＤ      9.673115\n"
     ]
    }
   ],
   "source": [
    "print(pd.DataFrame({\"Name\":hensu.columns,\"Coefficients\":clf.coef_}).sort_values(by=\"Coefficients\"))"
   ]
  },
  {
   "cell_type": "code",
   "execution_count": 19,
   "metadata": {},
   "outputs": [],
   "source": [
    "result = clf.fit(X,Y)"
   ]
  },
  {
   "cell_type": "code",
   "execution_count": null,
   "metadata": {},
   "outputs": [],
   "source": []
  }
 ],
 "metadata": {
  "kernelspec": {
   "display_name": "Python 3",
   "language": "python",
   "name": "python3"
  },
  "language_info": {
   "codemirror_mode": {
    "name": "ipython",
    "version": 3
   },
   "file_extension": ".py",
   "mimetype": "text/x-python",
   "name": "python",
   "nbconvert_exporter": "python",
   "pygments_lexer": "ipython3",
   "version": "3.7.4"
  }
 },
 "nbformat": 4,
 "nbformat_minor": 4
}
