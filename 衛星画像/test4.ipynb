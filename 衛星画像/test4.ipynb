{
 "cells": [
  {
   "cell_type": "code",
   "execution_count": 30,
   "metadata": {},
   "outputs": [],
   "source": [
    "import os \n",
    "from glob import glob\n",
    "import pandas as pd\n",
    "import rasterio as rio\n",
    "import pyproj\n"
   ]
  },
  {
   "cell_type": "code",
   "execution_count": 31,
   "metadata": {},
   "outputs": [
    {
     "data": {
      "text/plain": [
       "['.\\\\LC08_L1TP_109036_20170403_20170414_01_T1_B2.tiff',\n",
       " '.\\\\LC08_L1TP_109036_20170403_20170414_01_T1_B3.tiff',\n",
       " '.\\\\LC08_L1TP_109036_20170403_20170414_01_T1_B4.tiff',\n",
       " '.\\\\LC08_L1TP_110035_20170410_20170414_01_T1_B1.tiff',\n",
       " '.\\\\LC08_L1TP_110035_20170410_20170414_01_T1_B2.tiff',\n",
       " '.\\\\LC08_L1TP_110035_20170410_20170414_01_T1_B3.tiff',\n",
       " '.\\\\LC08_L1TP_110035_20170410_20170414_01_T1_B4.tiff',\n",
       " '.\\\\LC08_L1TP_110035_20170410_20170414_01_T1_B5.tiff',\n",
       " '.\\\\LC08_L1TP_110035_20170410_20170414_01_T1_B6.tiff',\n",
       " '.\\\\LC08_L1TP_110035_20170410_20170414_01_T1_B7.tiff',\n",
       " '.\\\\LC08_L1TP_110035_20170410_20170414_01_T1_B8.tiff']"
      ]
     },
     "execution_count": 31,
     "metadata": {},
     "output_type": "execute_result"
    }
   ],
   "source": [
    "landsat = \"./*.tiff\"\n",
    "landsat2 = glob(landsat)\n",
    "landsat2"
   ]
  },
  {
   "cell_type": "code",
   "execution_count": 40,
   "metadata": {},
   "outputs": [
    {
     "name": "stdout",
     "output_type": "stream",
     "text": [
      "['.\\\\LC08', 'L1TP', '109036', '20170403', '20170414', '01', 'T1', 'B2.tiff']\n",
      "['.\\\\LC08', 'L1TP', '109036', '20170403', '20170414', '01', 'T1', 'B3.tiff']\n",
      "['.\\\\LC08', 'L1TP', '109036', '20170403', '20170414', '01', 'T1', 'B4.tiff']\n",
      "['.\\\\LC08', 'L1TP', '110035', '20170410', '20170414', '01', 'T1', 'B1.tiff']\n",
      "['.\\\\LC08', 'L1TP', '110035', '20170410', '20170414', '01', 'T1', 'B2.tiff']\n",
      "['.\\\\LC08', 'L1TP', '110035', '20170410', '20170414', '01', 'T1', 'B3.tiff']\n",
      "['.\\\\LC08', 'L1TP', '110035', '20170410', '20170414', '01', 'T1', 'B4.tiff']\n",
      "['.\\\\LC08', 'L1TP', '110035', '20170410', '20170414', '01', 'T1', 'B5.tiff']\n",
      "['.\\\\LC08', 'L1TP', '110035', '20170410', '20170414', '01', 'T1', 'B6.tiff']\n",
      "['.\\\\LC08', 'L1TP', '110035', '20170410', '20170414', '01', 'T1', 'B7.tiff']\n",
      "['.\\\\LC08', 'L1TP', '110035', '20170410', '20170414', '01', 'T1', 'B8.tiff']\n",
      "['B2.tiff', 'B3.tiff', 'B4.tiff', 'B1.tiff', 'B2.tiff', 'B3.tiff', 'B4.tiff', 'B5.tiff', 'B6.tiff', 'B7.tiff', 'B8.tiff']\n",
      "          0\n",
      "0   B2.tiff\n",
      "1   B3.tiff\n",
      "2   B4.tiff\n",
      "3   B1.tiff\n",
      "4   B2.tiff\n",
      "5   B3.tiff\n",
      "6   B4.tiff\n",
      "7   B5.tiff\n",
      "8   B6.tiff\n",
      "9   B7.tiff\n",
      "10  B8.tiff\n"
     ]
    }
   ],
   "source": [
    "list1 =[]\n",
    "list2 = []\n",
    "for i in landsat2:\n",
    "    list1 = i.split(\"_\")\n",
    "    print(list1)\n",
    "    list2 += list1[7:]\n",
    "\n",
    "print(list2)\n",
    "df1= pd.DataFrame(list2)\n",
    "print(df1)"
   ]
  },
  {
   "cell_type": "code",
   "execution_count": 39,
   "metadata": {},
   "outputs": [
    {
     "name": "stdout",
     "output_type": "stream",
     "text": [
      "9205\n",
      "[[9193 9190 9195]\n",
      " [9208 9205 9200]\n",
      " [9192 9195 9210]]\n",
      "7816\n",
      "[[7812 7799 7813]\n",
      " [7805 7816 7816]\n",
      " [7812 7807 7807]]\n",
      "6672\n",
      "[[6671 6674 6668]\n",
      " [6677 6672 6677]\n",
      " [6677 6673 6668]]\n",
      "0\n",
      "[[0 0]\n",
      " [0 0]]\n",
      "0\n",
      "[[0 0]\n",
      " [0 0]]\n",
      "0\n",
      "[[0 0]\n",
      " [0 0]]\n",
      "0\n",
      "[[0 0]\n",
      " [0 0]]\n",
      "0\n",
      "[[0 0]\n",
      " [0 0]]\n",
      "0\n",
      "[[0 0]\n",
      " [0 0]]\n",
      "0\n",
      "[[0 0]\n",
      " [0 0]]\n",
      "0\n",
      "[[0 0]\n",
      " [0 0]]\n",
      "          0     1                                                  2\n",
      "0   B2.tiff  9205  [[9193, 9190, 9195], [9208, 9205, 9200], [9192...\n",
      "1   B3.tiff  7816  [[7812, 7799, 7813], [7805, 7816, 7816], [7812...\n",
      "2   B4.tiff  6672  [[6671, 6674, 6668], [6677, 6672, 6677], [6677...\n",
      "3   B1.tiff     0                                   [[0, 0], [0, 0]]\n",
      "4   B2.tiff     0                                   [[0, 0], [0, 0]]\n",
      "5   B3.tiff     0                                   [[0, 0], [0, 0]]\n",
      "6   B4.tiff     0                                   [[0, 0], [0, 0]]\n",
      "7   B5.tiff     0                                   [[0, 0], [0, 0]]\n",
      "8   B6.tiff     0                                   [[0, 0], [0, 0]]\n",
      "9   B7.tiff     0                                   [[0, 0], [0, 0]]\n",
      "10  B8.tiff     0                                   [[0, 0], [0, 0]]\n"
     ]
    }
   ],
   "source": [
    "list3 = []\n",
    "list4 = []\n",
    "for i in landsat2:\n",
    "    x = rio.open(i)\n",
    "    #use pyproj to onvert poit coordinates\n",
    "    utm = pyproj.Proj(x.crs)\n",
    "    lonlat = pyproj.Proj(init='epsg:4326')\n",
    "    lat,lon = (34.97106,136.72968)\n",
    "    east,north = pyproj.transform(lonlat,utm,lon,lat)\n",
    "    row, col = x.index(east,north)\n",
    "    xread = x.read(1)\n",
    "    print(xread[row,col])\n",
    "    print(xread[row-1:row+2,col-1:col+2])\n",
    "    list3.append(xread[row,col])\n",
    "    #print(list3)\n",
    "    list4.append(xread[row-1:row+2,col-1:col+2])\n",
    "    #print(list4)\n",
    "df1['1'] = list3\n",
    "df1['2'] = list4\n",
    "\n",
    "print(df1)\n"
   ]
  },
  {
   "cell_type": "code",
   "execution_count": null,
   "metadata": {},
   "outputs": [],
   "source": []
  }
 ],
 "metadata": {
  "kernelspec": {
   "display_name": "Python 3",
   "language": "python",
   "name": "python3"
  },
  "language_info": {
   "codemirror_mode": {
    "name": "ipython",
    "version": 3
   },
   "file_extension": ".py",
   "mimetype": "text/x-python",
   "name": "python",
   "nbconvert_exporter": "python",
   "pygments_lexer": "ipython3",
   "version": "3.7.4"
  }
 },
 "nbformat": 4,
 "nbformat_minor": 4
}
