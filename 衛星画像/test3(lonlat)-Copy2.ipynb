{
 "cells": [
  {
   "cell_type": "code",
   "execution_count": 4,
   "metadata": {},
   "outputs": [],
   "source": [
    "import rasterio as rio\n",
    "import pyproj\n",
    "import pandas as pd"
   ]
  },
  {
   "cell_type": "code",
   "execution_count": 5,
   "metadata": {},
   "outputs": [],
   "source": [
    "B5 = rio.open(\"./LC08_L1TP_110035_20170410_20170414_01_T1_B8.tiff\")\n"
   ]
  },
  {
   "cell_type": "code",
   "execution_count": 6,
   "metadata": {},
   "outputs": [
    {
     "data": {
      "text/plain": [
       "(15621, 15341)"
      ]
     },
     "execution_count": 6,
     "metadata": {},
     "output_type": "execute_result"
    }
   ],
   "source": [
    "B5.shape"
   ]
  },
  {
   "cell_type": "code",
   "execution_count": 7,
   "metadata": {},
   "outputs": [
    {
     "name": "stdout",
     "output_type": "stream",
     "text": [
      "[[ 35.450881 136.065759]\n",
      " [ 35.446546 136.117492]\n",
      " [ 35.38681  136.212837]\n",
      " [ 35.332352 136.245145]\n",
      " [ 35.313584 136.081037]\n",
      " [ 35.290468 136.235275]\n",
      " [ 35.291309 136.021471]\n",
      " [ 35.181806 135.930662]\n",
      " [ 35.150301 136.027264]\n",
      " [ 35.061898 135.882382]\n",
      " [ 35.056558 135.900578]\n",
      " [ 35.053818 135.917658]\n",
      " [ 35.024584 135.913109]]\n"
     ]
    }
   ],
   "source": [
    "lanLot = pd.read_excel(\"./緯度経度.xlsx\",usecols =[\"lon\",\"lat\"])\n",
    "lonlat = lanLot.values\n",
    "print(lonlat)"
   ]
  },
  {
   "cell_type": "code",
   "execution_count": 8,
   "metadata": {},
   "outputs": [
    {
     "data": {
      "text/plain": [
       "<open DatasetReader name='./LC08_L1TP_110035_20170410_20170414_01_T1_B8.tiff' mode='r'>"
      ]
     },
     "execution_count": 8,
     "metadata": {},
     "output_type": "execute_result"
    }
   ],
   "source": [
    "B5"
   ]
  },
  {
   "cell_type": "code",
   "execution_count": 9,
   "metadata": {},
   "outputs": [
    {
     "data": {
      "text/plain": [
       "{'driver': 'GTiff',\n",
       " 'dtype': 'uint16',\n",
       " 'nodata': None,\n",
       " 'width': 15341,\n",
       " 'height': 15621,\n",
       " 'count': 1,\n",
       " 'crs': CRS.from_dict(init='epsg:32653'),\n",
       " 'transform': Affine(15.0, 0.0, 427792.5,\n",
       "        0.0, -15.0, 4105507.5)}"
      ]
     },
     "execution_count": 9,
     "metadata": {},
     "output_type": "execute_result"
    }
   ],
   "source": [
    "B5.meta"
   ]
  },
  {
   "cell_type": "code",
   "execution_count": 10,
   "metadata": {},
   "outputs": [
    {
     "name": "stdout",
     "output_type": "stream",
     "text": [
      "16 0b10000\n",
      "16 0b10000\n",
      "0 0b0\n",
      "16 0b10000\n",
      "0 0b0\n",
      "16 0b10000\n",
      "0 0b0\n"
     ]
    },
    {
     "ename": "KeyboardInterrupt",
     "evalue": "",
     "output_type": "error",
     "traceback": [
      "\u001b[1;31m---------------------------------------------------------------------------\u001b[0m",
      "\u001b[1;31mKeyboardInterrupt\u001b[0m                         Traceback (most recent call last)",
      "\u001b[1;32m<ipython-input-10-7fe514ac0a44>\u001b[0m in \u001b[0;36m<module>\u001b[1;34m\u001b[0m\n\u001b[0;32m      6\u001b[0m     \u001b[0meast\u001b[0m\u001b[1;33m,\u001b[0m\u001b[0mnorth\u001b[0m \u001b[1;33m=\u001b[0m\u001b[0mpyproj\u001b[0m\u001b[1;33m.\u001b[0m\u001b[0mtransform\u001b[0m\u001b[1;33m(\u001b[0m\u001b[0mLonLat\u001b[0m\u001b[1;33m,\u001b[0m\u001b[0mutm\u001b[0m\u001b[1;33m,\u001b[0m\u001b[0mlon\u001b[0m\u001b[1;33m,\u001b[0m\u001b[0mlat\u001b[0m\u001b[1;33m)\u001b[0m\u001b[1;33m\u001b[0m\u001b[1;33m\u001b[0m\u001b[0m\n\u001b[0;32m      7\u001b[0m     \u001b[0mrow\u001b[0m\u001b[1;33m,\u001b[0m\u001b[0mcol\u001b[0m \u001b[1;33m=\u001b[0m \u001b[0mB5\u001b[0m\u001b[1;33m.\u001b[0m\u001b[0mindex\u001b[0m\u001b[1;33m(\u001b[0m\u001b[0meast\u001b[0m\u001b[1;33m,\u001b[0m\u001b[0mnorth\u001b[0m\u001b[1;33m)\u001b[0m\u001b[1;33m\u001b[0m\u001b[1;33m\u001b[0m\u001b[0m\n\u001b[1;32m----> 8\u001b[1;33m     \u001b[0mB5read\u001b[0m \u001b[1;33m=\u001b[0m \u001b[0mB5\u001b[0m\u001b[1;33m.\u001b[0m\u001b[0mread\u001b[0m\u001b[1;33m(\u001b[0m\u001b[1;36m1\u001b[0m\u001b[1;33m)\u001b[0m\u001b[1;33m\u001b[0m\u001b[1;33m\u001b[0m\u001b[0m\n\u001b[0m\u001b[0;32m      9\u001b[0m     \u001b[1;31m#print(type(bin(B5read[row,col])))\u001b[0m\u001b[1;33m\u001b[0m\u001b[1;33m\u001b[0m\u001b[1;33m\u001b[0m\u001b[0m\n\u001b[0;32m     10\u001b[0m     \u001b[0mDN\u001b[0m \u001b[1;33m=\u001b[0m \u001b[0mB5read\u001b[0m\u001b[1;33m[\u001b[0m\u001b[0mrow\u001b[0m\u001b[1;33m,\u001b[0m\u001b[0mcol\u001b[0m\u001b[1;33m]\u001b[0m\u001b[1;33m\u001b[0m\u001b[1;33m\u001b[0m\u001b[0m\n",
      "\u001b[1;31mKeyboardInterrupt\u001b[0m: "
     ]
    }
   ],
   "source": [
    "cloudbit =int(\"10000\",2)\n",
    "\n",
    "for lat, lon in lonlat:\n",
    "    utm = pyproj.Proj(B5.crs)\n",
    "    LonLat = pyproj.Proj(init ='epsg:4326')\n",
    "    east,north =pyproj.transform(LonLat,utm,lon,lat)\n",
    "    row,col = B5.index(east,north)\n",
    "    B5read = B5.read(1)\n",
    "    #print(type(bin(B5read[row,col])))\n",
    "    DN = B5read[row,col]\n",
    "    #print(type(cloudbit))\n",
    "    cloud = DN & cloudbit\n",
    "    print(cloud,bin(cloud))\n",
    "    \n",
    "    \n",
    "    "
   ]
  },
  {
   "cell_type": "code",
   "execution_count": null,
   "metadata": {},
   "outputs": [],
   "source": [
    "#use pyproj to onvert poit coordinates\n",
    "CORNER_UL_LAT_PRODUCT = 37.09322\n",
    "CORNER_UL_LON_PRODUCT = 134.21794\n",
    "utm = pyproj.Proj(B5.crs)\n",
    "lonlat = pyproj.Proj(init='epsg:4326')\n",
    "lat,lon = (37.09322,134.21794)\n",
    "east,north = pyproj.transform(lonlat,utm,lon,lat)\n",
    "\n",
    "#Datasets have an index() method for getting the array indices corresponding to points in georeferenced space. \n",
    "row, col = B5.index(east,north)\n",
    "\n",
    "#Data from a raster band can be accessed by the band’s index number.\n",
    "B5read = B5.read(1)\n",
    "B5read\n",
    "\n",
    "print(row,col)\n",
    "B5read[row,col]"
   ]
  },
  {
   "cell_type": "code",
   "execution_count": null,
   "metadata": {},
   "outputs": [],
   "source": []
  },
  {
   "cell_type": "code",
   "execution_count": null,
   "metadata": {},
   "outputs": [],
   "source": [
    "#周り9点を読み込む\n",
    "B5read[row-1:row+2,col-1:col+2]"
   ]
  },
  {
   "cell_type": "code",
   "execution_count": 13,
   "metadata": {},
   "outputs": [
    {
     "data": {
      "text/plain": [
       "(657870.0, 3871230.0)"
      ]
     },
     "execution_count": 13,
     "metadata": {},
     "output_type": "execute_result"
    }
   ],
   "source": [
    "#Returns the coordinates (x, y) of a pixel at row and col.\n",
    "B5.xy(row-1,col-1)"
   ]
  },
  {
   "cell_type": "code",
   "execution_count": null,
   "metadata": {},
   "outputs": [],
   "source": [
    "\"\"\"参考　https://rasterio.readthedocs.io/en/latest/quickstart.html#opening-a-dataset-in-reading-mode\n",
    "https://geohackweek.github.io/raster/04-workingwithrasters/　\"\"\""
   ]
  }
 ],
 "metadata": {
  "kernelspec": {
   "display_name": "Python 3",
   "language": "python",
   "name": "python3"
  },
  "language_info": {
   "codemirror_mode": {
    "name": "ipython",
    "version": 3
   },
   "file_extension": ".py",
   "mimetype": "text/x-python",
   "name": "python",
   "nbconvert_exporter": "python",
   "pygments_lexer": "ipython3",
   "version": "3.7.4"
  }
 },
 "nbformat": 4,
 "nbformat_minor": 4
}
