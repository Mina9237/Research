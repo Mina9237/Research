{
 "cells": [
  {
   "cell_type": "code",
   "execution_count": 2,
   "metadata": {},
   "outputs": [
    {
     "ename": "ModuleNotFoundError",
     "evalue": "No module named 'rasterio'",
     "output_type": "error",
     "traceback": [
      "\u001b[1;31m---------------------------------------------------------------------------\u001b[0m",
      "\u001b[1;31mModuleNotFoundError\u001b[0m                       Traceback (most recent call last)",
      "\u001b[1;32m<ipython-input-2-b21cef3fd910>\u001b[0m in \u001b[0;36m<module>\u001b[1;34m\u001b[0m\n\u001b[1;32m----> 1\u001b[1;33m \u001b[1;32mimport\u001b[0m \u001b[0mrasterio\u001b[0m \u001b[1;32mas\u001b[0m \u001b[0mrio\u001b[0m\u001b[1;33m\u001b[0m\u001b[1;33m\u001b[0m\u001b[0m\n\u001b[0m\u001b[0;32m      2\u001b[0m \u001b[1;32mimport\u001b[0m \u001b[0mpyproj\u001b[0m\u001b[1;33m\u001b[0m\u001b[1;33m\u001b[0m\u001b[0m\n",
      "\u001b[1;31mModuleNotFoundError\u001b[0m: No module named 'rasterio'"
     ]
    }
   ],
   "source": [
    "import rasterio as rio\n",
    "import pyproj"
   ]
  },
  {
   "cell_type": "code",
   "execution_count": 4,
   "metadata": {},
   "outputs": [],
   "source": [
    "import sys\n",
    "import pprint\n"
   ]
  },
  {
   "cell_type": "code",
   "execution_count": 6,
   "metadata": {},
   "outputs": [
    {
     "name": "stdout",
     "output_type": "stream",
     "text": [
      "['C:\\\\Users\\\\meina\\\\Anaconda3\\\\envs\\\\py3-TF2\\\\python36.zip', 'C:\\\\Users\\\\meina\\\\Anaconda3\\\\envs\\\\py3-TF2\\\\DLLs', 'C:\\\\Users\\\\meina\\\\Anaconda3\\\\envs\\\\py3-TF2\\\\lib', 'C:\\\\Users\\\\meina\\\\Anaconda3\\\\envs\\\\py3-TF2', '', 'C:\\\\Users\\\\meina\\\\Anaconda3\\\\envs\\\\py3-TF2\\\\lib\\\\site-packages', 'C:\\\\Users\\\\meina\\\\Anaconda3\\\\envs\\\\py3-TF2\\\\lib\\\\site-packages\\\\win32', 'C:\\\\Users\\\\meina\\\\Anaconda3\\\\envs\\\\py3-TF2\\\\lib\\\\site-packages\\\\win32\\\\lib', 'C:\\\\Users\\\\meina\\\\Anaconda3\\\\envs\\\\py3-TF2\\\\lib\\\\site-packages\\\\Pythonwin', 'C:\\\\Users\\\\meina\\\\Anaconda3\\\\envs\\\\py3-TF2\\\\lib\\\\site-packages\\\\IPython\\\\extensions', 'C:\\\\Users\\\\meina\\\\.ipython']\n"
     ]
    }
   ],
   "source": [
    "print(sys.path)"
   ]
  },
  {
   "cell_type": "code",
   "execution_count": 3,
   "metadata": {},
   "outputs": [
    {
     "ename": "NameError",
     "evalue": "name 'rio' is not defined",
     "output_type": "error",
     "traceback": [
      "\u001b[1;31m---------------------------------------------------------------------------\u001b[0m",
      "\u001b[1;31mNameError\u001b[0m                                 Traceback (most recent call last)",
      "\u001b[1;32m<ipython-input-3-cf52664d91ab>\u001b[0m in \u001b[0;36m<module>\u001b[1;34m\u001b[0m\n\u001b[1;32m----> 1\u001b[1;33m \u001b[0mB5\u001b[0m \u001b[1;33m=\u001b[0m \u001b[0mrio\u001b[0m\u001b[1;33m.\u001b[0m\u001b[0mopen\u001b[0m\u001b[1;33m(\u001b[0m\u001b[1;34m\"./LC08_L1TP_110035_20160728_20170322_01_T1_BQA.tif\"\u001b[0m\u001b[1;33m)\u001b[0m\u001b[1;33m\u001b[0m\u001b[1;33m\u001b[0m\u001b[0m\n\u001b[0m",
      "\u001b[1;31mNameError\u001b[0m: name 'rio' is not defined"
     ]
    }
   ],
   "source": [
    "B5 = rio.open(\"./LC08_L1TP_110035_20160728_20170322_01_T1_BQA.tif\")"
   ]
  },
  {
   "cell_type": "code",
   "execution_count": null,
   "metadata": {},
   "outputs": [],
   "source": []
  },
  {
   "cell_type": "code",
   "execution_count": 3,
   "metadata": {},
   "outputs": [
    {
     "data": {
      "text/plain": [
       "<open DatasetReader name='./longlatdata/LC08_L1TP_110035_20170410_20170414_01_T1_B5.tiff' mode='r'>"
      ]
     },
     "execution_count": 3,
     "metadata": {},
     "output_type": "execute_result"
    }
   ],
   "source": [
    "B5"
   ]
  },
  {
   "cell_type": "code",
   "execution_count": 4,
   "metadata": {},
   "outputs": [
    {
     "data": {
      "text/plain": [
       "{'driver': 'GTiff',\n",
       " 'dtype': 'uint16',\n",
       " 'nodata': None,\n",
       " 'width': 7671,\n",
       " 'height': 7811,\n",
       " 'count': 1,\n",
       " 'crs': CRS.from_dict(init='epsg:32653'),\n",
       " 'transform': Affine(30.0, 0.0, 427785.0,\n",
       "        0.0, -30.0, 4105515.0)}"
      ]
     },
     "execution_count": 4,
     "metadata": {},
     "output_type": "execute_result"
    }
   ],
   "source": [
    "B5.meta"
   ]
  },
  {
   "cell_type": "code",
   "execution_count": 5,
   "metadata": {},
   "outputs": [],
   "source": [
    "#use pyproj to onvert poit coordinates\n",
    "utm = pyproj.Proj(B5.crs)\n",
    "lonlat = pyproj.Proj(init='epsg:4326')\n",
    "lat,lon = (34.97106,136.72968)\n",
    "east,north = pyproj.transform(lonlat,utm,lon,lat)"
   ]
  },
  {
   "cell_type": "code",
   "execution_count": 6,
   "metadata": {},
   "outputs": [
    {
     "data": {
      "text/plain": [
       "(657900.0088913189, 3871200.0521531384)"
      ]
     },
     "execution_count": 6,
     "metadata": {},
     "output_type": "execute_result"
    }
   ],
   "source": [
    "east,north"
   ]
  },
  {
   "cell_type": "code",
   "execution_count": 7,
   "metadata": {},
   "outputs": [
    {
     "data": {
      "text/plain": [
       "pyproj.Proj('+units=m +init=epsg:32653 ', preserve_units=True)"
      ]
     },
     "execution_count": 7,
     "metadata": {},
     "output_type": "execute_result"
    }
   ],
   "source": [
    "utm"
   ]
  },
  {
   "cell_type": "code",
   "execution_count": 8,
   "metadata": {},
   "outputs": [],
   "source": [
    "#Datasets have an index() method for getting the array indices corresponding to points in georeferenced space. \n",
    "row, col = B5.index(east,north)"
   ]
  },
  {
   "cell_type": "code",
   "execution_count": 9,
   "metadata": {},
   "outputs": [
    {
     "name": "stdout",
     "output_type": "stream",
     "text": [
      "row,col=\t\t(7810,7670)\n"
     ]
    }
   ],
   "source": [
    "print(f'row,col=\\t\\t({row},{col})')"
   ]
  },
  {
   "cell_type": "code",
   "execution_count": 56,
   "metadata": {},
   "outputs": [
    {
     "data": {
      "text/plain": [
       "(1,)"
      ]
     },
     "execution_count": 56,
     "metadata": {},
     "output_type": "execute_result"
    }
   ],
   "source": [
    "B5.indexes"
   ]
  },
  {
   "cell_type": "code",
   "execution_count": 57,
   "metadata": {},
   "outputs": [
    {
     "data": {
      "text/plain": [
       "array([[0, 0, 0, ..., 0, 0, 0],\n",
       "       [0, 0, 0, ..., 0, 0, 0],\n",
       "       [0, 0, 0, ..., 0, 0, 0],\n",
       "       ...,\n",
       "       [0, 0, 0, ..., 0, 0, 0],\n",
       "       [0, 0, 0, ..., 0, 0, 0],\n",
       "       [0, 0, 0, ..., 0, 0, 0]], dtype=uint16)"
      ]
     },
     "execution_count": 57,
     "metadata": {},
     "output_type": "execute_result"
    }
   ],
   "source": [
    "#Data from a raster band can be accessed by the band’s index number.\n",
    "B5read = B5.read(1)\n",
    "B5read"
   ]
  },
  {
   "cell_type": "code",
   "execution_count": 58,
   "metadata": {},
   "outputs": [
    {
     "data": {
      "text/plain": [
       "21530"
      ]
     },
     "execution_count": 58,
     "metadata": {},
     "output_type": "execute_result"
    }
   ],
   "source": [
    "B5read[row,col]"
   ]
  },
  {
   "cell_type": "code",
   "execution_count": 59,
   "metadata": {},
   "outputs": [
    {
     "data": {
      "text/plain": [
       "array([[21841, 21509, 21776],\n",
       "       [21440, 21530, 21648],\n",
       "       [21062, 21184, 21267]], dtype=uint16)"
      ]
     },
     "execution_count": 59,
     "metadata": {},
     "output_type": "execute_result"
    }
   ],
   "source": [
    "#周り9点を読み込む\n",
    "B5read[row-1:row+2,col-1:col+2]"
   ]
  },
  {
   "cell_type": "code",
   "execution_count": 64,
   "metadata": {},
   "outputs": [
    {
     "data": {
      "text/plain": [
       "(596520.0, 3922950.0)"
      ]
     },
     "execution_count": 64,
     "metadata": {},
     "output_type": "execute_result"
    }
   ],
   "source": [
    "#Returns the coordinates (x, y) of a pixel at row and col.\n",
    "B5.xy(row-1,col-1)"
   ]
  },
  {
   "cell_type": "code",
   "execution_count": null,
   "metadata": {},
   "outputs": [],
   "source": [
    "\"\"\"参考　https://rasterio.readthedocs.io/en/latest/quickstart.html#opening-a-dataset-in-reading-mode\n",
    "https://geohackweek.github.io/raster/04-workingwithrasters/　\"\"\""
   ]
  }
 ],
 "metadata": {
  "kernelspec": {
   "display_name": "Python 3",
   "language": "python",
   "name": "python3"
  },
  "language_info": {
   "codemirror_mode": {
    "name": "ipython",
    "version": 3
   },
   "file_extension": ".py",
   "mimetype": "text/x-python",
   "name": "python",
   "nbconvert_exporter": "python",
   "pygments_lexer": "ipython3",
   "version": "3.6.10"
  }
 },
 "nbformat": 4,
 "nbformat_minor": 4
}
