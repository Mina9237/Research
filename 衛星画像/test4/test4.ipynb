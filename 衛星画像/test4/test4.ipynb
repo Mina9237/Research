{
 "cells": [
  {
   "cell_type": "code",
   "execution_count": 12,
   "metadata": {},
   "outputs": [],
   "source": [
    "import os\n",
    "from glob import glob\n",
    "import rasterio as rio\n",
    "import pyproj"
   ]
  },
  {
   "cell_type": "code",
   "execution_count": 35,
   "metadata": {},
   "outputs": [
    {
     "data": {
      "text/plain": [
       "['./data\\\\LC08_L1TP_109036_20170403_20170414_01_T1_B2.tiff',\n",
       " './data\\\\LC08_L1TP_109036_20170403_20170414_01_T1_B3.tiff',\n",
       " './data\\\\LC08_L1TP_109036_20170403_20170414_01_T1_B4.tiff',\n",
       " './data\\\\LC08_L1TP_110035_20170410_20170414_01_T1_B1.tiff',\n",
       " './data\\\\LC08_L1TP_110035_20170410_20170414_01_T1_B2.tiff',\n",
       " './data\\\\LC08_L1TP_110035_20170410_20170414_01_T1_B3.tiff',\n",
       " './data\\\\LC08_L1TP_110035_20170410_20170414_01_T1_B4.tiff',\n",
       " './data\\\\LC08_L1TP_110035_20170410_20170414_01_T1_B5.tiff',\n",
       " './data\\\\LC08_L1TP_110035_20170410_20170414_01_T1_B6.tiff',\n",
       " './data\\\\LC08_L1TP_110035_20170410_20170414_01_T1_B7.tiff',\n",
       " './data\\\\LC08_L1TP_110035_20170410_20170414_01_T1_B8.tiff']"
      ]
     },
     "execution_count": 35,
     "metadata": {},
     "output_type": "execute_result"
    }
   ],
   "source": [
    "# Prepare the landsat bands to be stacked using glob and sort\n",
    "#glob()の第一引数にパスの文字列を指定する。ワイルドカード*などの特殊文字が使用可能。条件を満たすパスの文字列を要素とするリスト（list型）が取得できる。\n",
    "landsat_bands_data_path = \"./data/*\"\n",
    "stack_band_paths = glob(landsat_bands_data_path)\n",
    "stack_band_paths.sort()\n",
    "stack_band_paths"
   ]
  },
  {
   "cell_type": "code",
   "execution_count": 60,
   "metadata": {},
   "outputs": [
    {
     "name": "stdout",
     "output_type": "stream",
     "text": [
      "<open DatasetReader name='./data\\LC08_L1TP_109036_20170403_20170414_01_T1_B2.tiff' mode='r'>\n",
      "796 2085\n",
      "9386\n",
      "<open DatasetReader name='./data\\LC08_L1TP_109036_20170403_20170414_01_T1_B3.tiff' mode='r'>\n",
      "796 2085\n",
      "7755\n",
      "<open DatasetReader name='./data\\LC08_L1TP_109036_20170403_20170414_01_T1_B4.tiff' mode='r'>\n",
      "796 2085\n",
      "6827\n",
      "<open DatasetReader name='./data\\LC08_L1TP_110035_20170410_20170414_01_T1_B1.tiff' mode='r'>\n",
      "6086 5625\n",
      "21765\n",
      "<open DatasetReader name='./data\\LC08_L1TP_110035_20170410_20170414_01_T1_B2.tiff' mode='r'>\n",
      "6086 5625\n",
      "21187\n",
      "<open DatasetReader name='./data\\LC08_L1TP_110035_20170410_20170414_01_T1_B3.tiff' mode='r'>\n",
      "6086 5625\n",
      "19760\n",
      "<open DatasetReader name='./data\\LC08_L1TP_110035_20170410_20170414_01_T1_B4.tiff' mode='r'>\n",
      "6086 5625\n",
      "20023\n",
      "<open DatasetReader name='./data\\LC08_L1TP_110035_20170410_20170414_01_T1_B5.tiff' mode='r'>\n",
      "6086 5625\n",
      "21530\n",
      "<open DatasetReader name='./data\\LC08_L1TP_110035_20170410_20170414_01_T1_B6.tiff' mode='r'>\n",
      "6086 5625\n",
      "18099\n",
      "<open DatasetReader name='./data\\LC08_L1TP_110035_20170410_20170414_01_T1_B7.tiff' mode='r'>\n",
      "6086 5625\n",
      "17255\n",
      "<open DatasetReader name='./data\\LC08_L1TP_110035_20170410_20170414_01_T1_B8.tiff' mode='r'>\n",
      "12172 11250\n",
      "20055\n"
     ]
    }
   ],
   "source": [
    "for i,r,row,col in zip (stack_band_paths,range(0,11),range(0,11),range(0,11)):\n",
    "    r = rio.open(i)\n",
    "    print(r)\n",
    "    #use pyproj to onvert poit coordinates\n",
    "    utm = pyproj.Proj(r.crs)\n",
    "    lonlat = pyproj.Proj(init='epsg:4326')\n",
    "    lat,lon = (35.445,136.0638888889)\n",
    "    east,north = pyproj.transform(lonlat,utm,lon,lat)\n",
    "    row, col = r.index(east,north)\n",
    "    print(row,col)\n",
    "    r = r.read(1)\n",
    "    print(r[row,col])\n"
   ]
  },
  {
   "cell_type": "code",
   "execution_count": 53,
   "metadata": {},
   "outputs": [
    {
     "name": "stdout",
     "output_type": "stream",
     "text": [
      "12172 11250\n"
     ]
    }
   ],
   "source": [
    "print(row,col)"
   ]
  },
  {
   "cell_type": "code",
   "execution_count": null,
   "metadata": {},
   "outputs": [],
   "source": []
  }
 ],
 "metadata": {
  "kernelspec": {
   "display_name": "Python 3",
   "language": "python",
   "name": "python3"
  },
  "language_info": {
   "codemirror_mode": {
    "name": "ipython",
    "version": 3
   },
   "file_extension": ".py",
   "mimetype": "text/x-python",
   "name": "python",
   "nbconvert_exporter": "python",
   "pygments_lexer": "ipython3",
   "version": "3.7.4"
  }
 },
 "nbformat": 4,
 "nbformat_minor": 4
}
